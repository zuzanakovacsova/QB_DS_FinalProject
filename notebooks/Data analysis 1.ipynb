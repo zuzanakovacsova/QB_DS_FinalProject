{
 "cells": [
  {
   "cell_type": "markdown",
   "metadata": {},
   "source": [
    "# Data analysis\n",
    "## Running some simple models first\n",
    "\n",
    "![alt text](https://scikit-learn.org/stable/_static/ml_map.png)\n"
   ]
  },
  {
   "cell_type": "code",
   "execution_count": 1,
   "metadata": {},
   "outputs": [],
   "source": [
    "#Setting up environment\n",
    "import pandas as pd\n",
    "import os\n",
    "import numpy as np\n",
    "from IPython.display import Math\n",
    " \n",
    "import matplotlib.pylab as plt\n",
    "import seaborn as sns\n",
    "from sklearn.model_selection import train_test_split, GridSearchCV,RandomizedSearchCV\n",
    "from sklearn.linear_model import LogisticRegression\n",
    "from sklearn.neighbors import KNeighborsClassifier\n",
    "from sklearn.ensemble import RandomForestClassifier,VotingClassifier,AdaBoostClassifier,GradientBoostingClassifier\n",
    "from sklearn import metrics, svm,tree,preprocessing\n",
    "from sklearn.tree import DecisionTreeClassifier\n",
    "from pprint import pprint\n",
    "from sklearn.metrics import (auc, confusion_matrix, roc_curve, accuracy_score, precision_score)\n",
    "\n",
    "import warnings\n",
    "warnings.filterwarnings('ignore')\n",
    "\n",
    "%matplotlib inline"
   ]
  },
  {
   "cell_type": "code",
   "execution_count": 2,
   "metadata": {},
   "outputs": [
    {
     "data": {
      "text/html": [
       "<div>\n",
       "<style scoped>\n",
       "    .dataframe tbody tr th:only-of-type {\n",
       "        vertical-align: middle;\n",
       "    }\n",
       "\n",
       "    .dataframe tbody tr th {\n",
       "        vertical-align: top;\n",
       "    }\n",
       "\n",
       "    .dataframe thead th {\n",
       "        text-align: right;\n",
       "    }\n",
       "</style>\n",
       "<table border=\"1\" class=\"dataframe\">\n",
       "  <thead>\n",
       "    <tr style=\"text-align: right;\">\n",
       "      <th></th>\n",
       "      <th>radius_mean</th>\n",
       "      <th>texture_mean</th>\n",
       "      <th>perimeter_mean</th>\n",
       "      <th>area_mean</th>\n",
       "      <th>smoothness_mean</th>\n",
       "      <th>compactness_mean</th>\n",
       "      <th>concavity_mean</th>\n",
       "      <th>concave points_mean</th>\n",
       "      <th>symmetry_mean</th>\n",
       "      <th>fractal_dimension_mean</th>\n",
       "      <th>...</th>\n",
       "      <th>texture_worst</th>\n",
       "      <th>perimeter_worst</th>\n",
       "      <th>area_worst</th>\n",
       "      <th>smoothness_worst</th>\n",
       "      <th>compactness_worst</th>\n",
       "      <th>concavity_worst</th>\n",
       "      <th>concave points_worst</th>\n",
       "      <th>symmetry_worst</th>\n",
       "      <th>fractal_dimension_worst</th>\n",
       "      <th>diagnosis_category</th>\n",
       "    </tr>\n",
       "    <tr>\n",
       "      <th>id</th>\n",
       "      <th></th>\n",
       "      <th></th>\n",
       "      <th></th>\n",
       "      <th></th>\n",
       "      <th></th>\n",
       "      <th></th>\n",
       "      <th></th>\n",
       "      <th></th>\n",
       "      <th></th>\n",
       "      <th></th>\n",
       "      <th></th>\n",
       "      <th></th>\n",
       "      <th></th>\n",
       "      <th></th>\n",
       "      <th></th>\n",
       "      <th></th>\n",
       "      <th></th>\n",
       "      <th></th>\n",
       "      <th></th>\n",
       "      <th></th>\n",
       "      <th></th>\n",
       "    </tr>\n",
       "  </thead>\n",
       "  <tbody>\n",
       "    <tr>\n",
       "      <td>842302</td>\n",
       "      <td>17.99</td>\n",
       "      <td>10.38</td>\n",
       "      <td>122.80</td>\n",
       "      <td>1001.0</td>\n",
       "      <td>0.11840</td>\n",
       "      <td>0.27760</td>\n",
       "      <td>0.3001</td>\n",
       "      <td>0.14710</td>\n",
       "      <td>0.2419</td>\n",
       "      <td>0.07871</td>\n",
       "      <td>...</td>\n",
       "      <td>17.33</td>\n",
       "      <td>184.60</td>\n",
       "      <td>2019.0</td>\n",
       "      <td>0.1622</td>\n",
       "      <td>0.6656</td>\n",
       "      <td>0.7119</td>\n",
       "      <td>0.2654</td>\n",
       "      <td>0.4601</td>\n",
       "      <td>0.11890</td>\n",
       "      <td>1</td>\n",
       "    </tr>\n",
       "    <tr>\n",
       "      <td>842517</td>\n",
       "      <td>20.57</td>\n",
       "      <td>17.77</td>\n",
       "      <td>132.90</td>\n",
       "      <td>1326.0</td>\n",
       "      <td>0.08474</td>\n",
       "      <td>0.07864</td>\n",
       "      <td>0.0869</td>\n",
       "      <td>0.07017</td>\n",
       "      <td>0.1812</td>\n",
       "      <td>0.05667</td>\n",
       "      <td>...</td>\n",
       "      <td>23.41</td>\n",
       "      <td>158.80</td>\n",
       "      <td>1956.0</td>\n",
       "      <td>0.1238</td>\n",
       "      <td>0.1866</td>\n",
       "      <td>0.2416</td>\n",
       "      <td>0.1860</td>\n",
       "      <td>0.2750</td>\n",
       "      <td>0.08902</td>\n",
       "      <td>1</td>\n",
       "    </tr>\n",
       "    <tr>\n",
       "      <td>84300903</td>\n",
       "      <td>19.69</td>\n",
       "      <td>21.25</td>\n",
       "      <td>130.00</td>\n",
       "      <td>1203.0</td>\n",
       "      <td>0.10960</td>\n",
       "      <td>0.15990</td>\n",
       "      <td>0.1974</td>\n",
       "      <td>0.12790</td>\n",
       "      <td>0.2069</td>\n",
       "      <td>0.05999</td>\n",
       "      <td>...</td>\n",
       "      <td>25.53</td>\n",
       "      <td>152.50</td>\n",
       "      <td>1709.0</td>\n",
       "      <td>0.1444</td>\n",
       "      <td>0.4245</td>\n",
       "      <td>0.4504</td>\n",
       "      <td>0.2430</td>\n",
       "      <td>0.3613</td>\n",
       "      <td>0.08758</td>\n",
       "      <td>1</td>\n",
       "    </tr>\n",
       "    <tr>\n",
       "      <td>84348301</td>\n",
       "      <td>11.42</td>\n",
       "      <td>20.38</td>\n",
       "      <td>77.58</td>\n",
       "      <td>386.1</td>\n",
       "      <td>0.14250</td>\n",
       "      <td>0.28390</td>\n",
       "      <td>0.2414</td>\n",
       "      <td>0.10520</td>\n",
       "      <td>0.2597</td>\n",
       "      <td>0.09744</td>\n",
       "      <td>...</td>\n",
       "      <td>26.50</td>\n",
       "      <td>98.87</td>\n",
       "      <td>567.7</td>\n",
       "      <td>0.2098</td>\n",
       "      <td>0.8663</td>\n",
       "      <td>0.6869</td>\n",
       "      <td>0.2575</td>\n",
       "      <td>0.6638</td>\n",
       "      <td>0.17300</td>\n",
       "      <td>1</td>\n",
       "    </tr>\n",
       "    <tr>\n",
       "      <td>84358402</td>\n",
       "      <td>20.29</td>\n",
       "      <td>14.34</td>\n",
       "      <td>135.10</td>\n",
       "      <td>1297.0</td>\n",
       "      <td>0.10030</td>\n",
       "      <td>0.13280</td>\n",
       "      <td>0.1980</td>\n",
       "      <td>0.10430</td>\n",
       "      <td>0.1809</td>\n",
       "      <td>0.05883</td>\n",
       "      <td>...</td>\n",
       "      <td>16.67</td>\n",
       "      <td>152.20</td>\n",
       "      <td>1575.0</td>\n",
       "      <td>0.1374</td>\n",
       "      <td>0.2050</td>\n",
       "      <td>0.4000</td>\n",
       "      <td>0.1625</td>\n",
       "      <td>0.2364</td>\n",
       "      <td>0.07678</td>\n",
       "      <td>1</td>\n",
       "    </tr>\n",
       "  </tbody>\n",
       "</table>\n",
       "<p>5 rows × 31 columns</p>\n",
       "</div>"
      ],
      "text/plain": [
       "          radius_mean  texture_mean  perimeter_mean  area_mean  \\\n",
       "id                                                               \n",
       "842302          17.99         10.38          122.80     1001.0   \n",
       "842517          20.57         17.77          132.90     1326.0   \n",
       "84300903        19.69         21.25          130.00     1203.0   \n",
       "84348301        11.42         20.38           77.58      386.1   \n",
       "84358402        20.29         14.34          135.10     1297.0   \n",
       "\n",
       "          smoothness_mean  compactness_mean  concavity_mean  \\\n",
       "id                                                            \n",
       "842302            0.11840           0.27760          0.3001   \n",
       "842517            0.08474           0.07864          0.0869   \n",
       "84300903          0.10960           0.15990          0.1974   \n",
       "84348301          0.14250           0.28390          0.2414   \n",
       "84358402          0.10030           0.13280          0.1980   \n",
       "\n",
       "          concave points_mean  symmetry_mean  fractal_dimension_mean  ...  \\\n",
       "id                                                                    ...   \n",
       "842302                0.14710         0.2419                 0.07871  ...   \n",
       "842517                0.07017         0.1812                 0.05667  ...   \n",
       "84300903              0.12790         0.2069                 0.05999  ...   \n",
       "84348301              0.10520         0.2597                 0.09744  ...   \n",
       "84358402              0.10430         0.1809                 0.05883  ...   \n",
       "\n",
       "          texture_worst  perimeter_worst  area_worst  smoothness_worst  \\\n",
       "id                                                                       \n",
       "842302            17.33           184.60      2019.0            0.1622   \n",
       "842517            23.41           158.80      1956.0            0.1238   \n",
       "84300903          25.53           152.50      1709.0            0.1444   \n",
       "84348301          26.50            98.87       567.7            0.2098   \n",
       "84358402          16.67           152.20      1575.0            0.1374   \n",
       "\n",
       "          compactness_worst  concavity_worst  concave points_worst  \\\n",
       "id                                                                   \n",
       "842302               0.6656           0.7119                0.2654   \n",
       "842517               0.1866           0.2416                0.1860   \n",
       "84300903             0.4245           0.4504                0.2430   \n",
       "84348301             0.8663           0.6869                0.2575   \n",
       "84358402             0.2050           0.4000                0.1625   \n",
       "\n",
       "          symmetry_worst  fractal_dimension_worst  diagnosis_category  \n",
       "id                                                                     \n",
       "842302            0.4601                  0.11890                   1  \n",
       "842517            0.2750                  0.08902                   1  \n",
       "84300903          0.3613                  0.08758                   1  \n",
       "84348301          0.6638                  0.17300                   1  \n",
       "84358402          0.2364                  0.07678                   1  \n",
       "\n",
       "[5 rows x 31 columns]"
      ]
     },
     "execution_count": 2,
     "metadata": {},
     "output_type": "execute_result"
    }
   ],
   "source": [
    "#Uploading data\n",
    "df_processed= pd.read_csv(\"/Suzi fun files/QB course/QB_DS_FinalProject/data/processed/data_all_features.csv\", index_col=[0])\n",
    "df_processed.head()"
   ]
  },
  {
   "cell_type": "code",
   "execution_count": 3,
   "metadata": {},
   "outputs": [],
   "source": [
    "#Split data into test and train\n",
    "target = df_processed['diagnosis_category']\n",
    "X = df_processed.drop('diagnosis_category',axis = 1)\n",
    "X = X.values\n",
    "X_train, X_test, y_train, y_test  = train_test_split(X, target, test_size = 0.2,random_state = 42)"
   ]
  },
  {
   "cell_type": "code",
   "execution_count": 4,
   "metadata": {
    "scrolled": true
   },
   "outputs": [
    {
     "data": {
      "text/plain": [
       "(569, 31)"
      ]
     },
     "execution_count": 4,
     "metadata": {},
     "output_type": "execute_result"
    }
   ],
   "source": [
    "df_processed.shape"
   ]
  },
  {
   "cell_type": "markdown",
   "metadata": {},
   "source": [
    "## First algorithm: decision tree\n",
    "- suitable for data with collinearity\n",
    "- can be visualised \n",
    "- our dataset is quite small so computational complexity not a big problem \n",
    "\n",
    "I score my grid search with recall, as I want high recall in tumour diagnosis. "
   ]
  },
  {
   "cell_type": "code",
   "execution_count": 5,
   "metadata": {},
   "outputs": [],
   "source": [
    "# Tune Decision Tree\n",
    "num_leaves = [5, 10, 15, 20, 30, 40, 50]\n",
    "depth = np.arange(3, 21)\n",
    "num_samples_split = np.arange(10,20)\n",
    "params_DT = {\"max_depth\": depth, \"min_samples_leaf\": num_leaves, \"min_samples_split\":num_samples_split}\n",
    "random_state = 42\n",
    "classifier_DT = DecisionTreeClassifier(random_state=random_state)\n",
    "grid_DT = GridSearchCV(classifier_DT, params_DT,scoring='roc_auc');\n",
    "grid_DT.fit(X_train,y_train)\n",
    "\n",
    "prediction_DT = grid_DT.predict(X_test)\n",
    "probability_DT = grid_DT.predict_proba(X_test)"
   ]
  },
  {
   "cell_type": "code",
   "execution_count": 6,
   "metadata": {},
   "outputs": [
    {
     "data": {
      "text/html": [
       "<div>\n",
       "<style scoped>\n",
       "    .dataframe tbody tr th:only-of-type {\n",
       "        vertical-align: middle;\n",
       "    }\n",
       "\n",
       "    .dataframe tbody tr th {\n",
       "        vertical-align: top;\n",
       "    }\n",
       "\n",
       "    .dataframe thead th {\n",
       "        text-align: right;\n",
       "    }\n",
       "</style>\n",
       "<table border=\"1\" class=\"dataframe\">\n",
       "  <thead>\n",
       "    <tr style=\"text-align: right;\">\n",
       "      <th></th>\n",
       "      <th>mean_fit_time</th>\n",
       "      <th>std_fit_time</th>\n",
       "      <th>mean_score_time</th>\n",
       "      <th>std_score_time</th>\n",
       "      <th>param_max_depth</th>\n",
       "      <th>param_min_samples_leaf</th>\n",
       "      <th>param_min_samples_split</th>\n",
       "      <th>params</th>\n",
       "      <th>split0_test_score</th>\n",
       "      <th>split1_test_score</th>\n",
       "      <th>split2_test_score</th>\n",
       "      <th>mean_test_score</th>\n",
       "      <th>std_test_score</th>\n",
       "      <th>rank_test_score</th>\n",
       "    </tr>\n",
       "  </thead>\n",
       "  <tbody>\n",
       "    <tr>\n",
       "      <td>0</td>\n",
       "      <td>0.002666</td>\n",
       "      <td>4.722695e-04</td>\n",
       "      <td>0.001001</td>\n",
       "      <td>0.000001</td>\n",
       "      <td>3</td>\n",
       "      <td>5</td>\n",
       "      <td>10</td>\n",
       "      <td>{'max_depth': 3, 'min_samples_leaf': 5, 'min_s...</td>\n",
       "      <td>0.966831</td>\n",
       "      <td>0.916071</td>\n",
       "      <td>0.92735</td>\n",
       "      <td>0.936883</td>\n",
       "      <td>0.021806</td>\n",
       "      <td>1257</td>\n",
       "    </tr>\n",
       "    <tr>\n",
       "      <td>1</td>\n",
       "      <td>0.002000</td>\n",
       "      <td>7.370010e-07</td>\n",
       "      <td>0.000666</td>\n",
       "      <td>0.000471</td>\n",
       "      <td>3</td>\n",
       "      <td>5</td>\n",
       "      <td>11</td>\n",
       "      <td>{'max_depth': 3, 'min_samples_leaf': 5, 'min_s...</td>\n",
       "      <td>0.966831</td>\n",
       "      <td>0.916071</td>\n",
       "      <td>0.92735</td>\n",
       "      <td>0.936883</td>\n",
       "      <td>0.021806</td>\n",
       "      <td>1257</td>\n",
       "    </tr>\n",
       "    <tr>\n",
       "      <td>2</td>\n",
       "      <td>0.002020</td>\n",
       "      <td>1.403006e-05</td>\n",
       "      <td>0.000989</td>\n",
       "      <td>0.000017</td>\n",
       "      <td>3</td>\n",
       "      <td>5</td>\n",
       "      <td>12</td>\n",
       "      <td>{'max_depth': 3, 'min_samples_leaf': 5, 'min_s...</td>\n",
       "      <td>0.965461</td>\n",
       "      <td>0.916071</td>\n",
       "      <td>0.92735</td>\n",
       "      <td>0.936422</td>\n",
       "      <td>0.021173</td>\n",
       "      <td>1259</td>\n",
       "    </tr>\n",
       "    <tr>\n",
       "      <td>3</td>\n",
       "      <td>0.001995</td>\n",
       "      <td>1.167413e-05</td>\n",
       "      <td>0.001005</td>\n",
       "      <td>0.000011</td>\n",
       "      <td>3</td>\n",
       "      <td>5</td>\n",
       "      <td>13</td>\n",
       "      <td>{'max_depth': 3, 'min_samples_leaf': 5, 'min_s...</td>\n",
       "      <td>0.965461</td>\n",
       "      <td>0.916071</td>\n",
       "      <td>0.92735</td>\n",
       "      <td>0.936422</td>\n",
       "      <td>0.021173</td>\n",
       "      <td>1259</td>\n",
       "    </tr>\n",
       "    <tr>\n",
       "      <td>4</td>\n",
       "      <td>0.002002</td>\n",
       "      <td>2.245020e-06</td>\n",
       "      <td>0.001000</td>\n",
       "      <td>0.000002</td>\n",
       "      <td>3</td>\n",
       "      <td>5</td>\n",
       "      <td>14</td>\n",
       "      <td>{'max_depth': 3, 'min_samples_leaf': 5, 'min_s...</td>\n",
       "      <td>0.969846</td>\n",
       "      <td>0.916071</td>\n",
       "      <td>0.92735</td>\n",
       "      <td>0.937897</td>\n",
       "      <td>0.023200</td>\n",
       "      <td>1256</td>\n",
       "    </tr>\n",
       "  </tbody>\n",
       "</table>\n",
       "</div>"
      ],
      "text/plain": [
       "   mean_fit_time  std_fit_time  mean_score_time  std_score_time  \\\n",
       "0       0.002666  4.722695e-04         0.001001        0.000001   \n",
       "1       0.002000  7.370010e-07         0.000666        0.000471   \n",
       "2       0.002020  1.403006e-05         0.000989        0.000017   \n",
       "3       0.001995  1.167413e-05         0.001005        0.000011   \n",
       "4       0.002002  2.245020e-06         0.001000        0.000002   \n",
       "\n",
       "  param_max_depth param_min_samples_leaf param_min_samples_split  \\\n",
       "0               3                      5                      10   \n",
       "1               3                      5                      11   \n",
       "2               3                      5                      12   \n",
       "3               3                      5                      13   \n",
       "4               3                      5                      14   \n",
       "\n",
       "                                              params  split0_test_score  \\\n",
       "0  {'max_depth': 3, 'min_samples_leaf': 5, 'min_s...           0.966831   \n",
       "1  {'max_depth': 3, 'min_samples_leaf': 5, 'min_s...           0.966831   \n",
       "2  {'max_depth': 3, 'min_samples_leaf': 5, 'min_s...           0.965461   \n",
       "3  {'max_depth': 3, 'min_samples_leaf': 5, 'min_s...           0.965461   \n",
       "4  {'max_depth': 3, 'min_samples_leaf': 5, 'min_s...           0.969846   \n",
       "\n",
       "   split1_test_score  split2_test_score  mean_test_score  std_test_score  \\\n",
       "0           0.916071            0.92735         0.936883        0.021806   \n",
       "1           0.916071            0.92735         0.936883        0.021806   \n",
       "2           0.916071            0.92735         0.936422        0.021173   \n",
       "3           0.916071            0.92735         0.936422        0.021173   \n",
       "4           0.916071            0.92735         0.937897        0.023200   \n",
       "\n",
       "   rank_test_score  \n",
       "0             1257  \n",
       "1             1257  \n",
       "2             1259  \n",
       "3             1259  \n",
       "4             1256  "
      ]
     },
     "execution_count": 6,
     "metadata": {},
     "output_type": "execute_result"
    }
   ],
   "source": [
    "grid_DT_df = pd.DataFrame(grid_DT.cv_results_)\n",
    "grid_DT_df.head(5)"
   ]
  },
  {
   "cell_type": "code",
   "execution_count": 7,
   "metadata": {},
   "outputs": [
    {
     "name": "stdout",
     "output_type": "stream",
     "text": [
      "Accuracy: 0.9473684210526315\n"
     ]
    }
   ],
   "source": [
    "print(\"Accuracy:\",metrics.accuracy_score(y_test, prediction_DT))"
   ]
  },
  {
   "cell_type": "code",
   "execution_count": 8,
   "metadata": {},
   "outputs": [
    {
     "data": {
      "text/plain": [
       "[Text(558.0, 489.24, 'concave points_mean <= 0.051\\nsamples = 100.0%\\nvalue = [0.629, 0.371]'),\n",
       " Text(343.38461538461536, 380.52000000000004, 'radius_worst <= 16.83\\nsamples = 62.0%\\nvalue = [0.943, 0.057]'),\n",
       " Text(257.53846153846155, 271.8, 'area_se <= 34.405\\nsamples = 57.8%\\nvalue = [0.981, 0.019]'),\n",
       " Text(171.69230769230768, 163.08000000000004, 'texture_worst <= 30.145\\nsamples = 54.5%\\nvalue = [0.992, 0.008]'),\n",
       " Text(85.84615384615384, 54.360000000000014, 'samples = 47.5%\\nvalue = [1.0, 0.0]'),\n",
       " Text(257.53846153846155, 54.360000000000014, 'samples = 7.0%\\nvalue = [0.938, 0.062]'),\n",
       " Text(343.38461538461536, 163.08000000000004, 'samples = 3.3%\\nvalue = [0.8, 0.2]'),\n",
       " Text(429.23076923076917, 271.8, 'samples = 4.2%\\nvalue = [0.421, 0.579]'),\n",
       " Text(772.6153846153845, 380.52000000000004, 'concave points_worst <= 0.147\\nsamples = 38.0%\\nvalue = [0.116, 0.884]'),\n",
       " Text(600.9230769230769, 271.8, 'fractal_dimension_mean <= 0.063\\nsamples = 7.7%\\nvalue = [0.514, 0.486]'),\n",
       " Text(515.0769230769231, 163.08000000000004, 'samples = 4.2%\\nvalue = [0.211, 0.789]'),\n",
       " Text(686.7692307692307, 163.08000000000004, 'samples = 3.5%\\nvalue = [0.875, 0.125]'),\n",
       " Text(944.3076923076923, 271.8, 'compactness_se <= 0.054\\nsamples = 30.3%\\nvalue = [0.014, 0.986]'),\n",
       " Text(858.4615384615383, 163.08000000000004, 'samples = 27.0%\\nvalue = [0.0, 1.0]'),\n",
       " Text(1030.1538461538462, 163.08000000000004, 'samples = 3.3%\\nvalue = [0.133, 0.867]')]"
      ]
     },
     "execution_count": 8,
     "metadata": {},
     "output_type": "execute_result"
    },
    {
     "data": {
      "image/png": "[encoded data removed]",
      "text/plain": [
       "<Figure size 1440x720 with 1 Axes>"
      ]
     },
     "metadata": {
      "needs_background": "light"
     },
     "output_type": "display_data"
    }
   ],
   "source": [
    "model_DT= grid_DT.best_estimator_\n",
    "plt.figure(figsize=(20,10)) \n",
    "tree.plot_tree(model_DT, feature_names=df_processed.columns[0:-1], impurity=False, proportion=True)"
   ]
  },
  {
   "cell_type": "code",
   "execution_count": 9,
   "metadata": {},
   "outputs": [
    {
     "name": "stdout",
     "output_type": "stream",
     "text": [
      "[[68  3]\n",
      " [ 3 40]]\n"
     ]
    }
   ],
   "source": [
    "print(metrics.confusion_matrix(y_test, prediction_DT))"
   ]
  },
  {
   "cell_type": "code",
   "execution_count": 10,
   "metadata": {},
   "outputs": [
    {
     "name": "stdout",
     "output_type": "stream",
     "text": [
      "0.9302325581395349\n",
      "0.9302325581395349\n"
     ]
    }
   ],
   "source": [
    "tree_tn, tree_fp, tree_fn, tree_tp = metrics.confusion_matrix(y_test, prediction_DT).ravel()\n",
    "recall_DT= tree_tp/(tree_tp + tree_fn)\n",
    "precision_DT = tree_tp/(tree_tp + tree_fp)\n",
    "print(recall_DT)\n",
    "print(precision_DT)"
   ]
  },
  {
   "cell_type": "code",
   "execution_count": 11,
   "metadata": {},
   "outputs": [
    {
     "name": "stdout",
     "output_type": "stream",
     "text": [
      "{'max_depth': 4, 'min_samples_leaf': 15, 'min_samples_split': 10}\n"
     ]
    },
    {
     "data": {
      "image/png": "[encoded data removed]",
      "text/plain": [
       "<Figure size 432x288 with 1 Axes>"
      ]
     },
     "metadata": {
      "needs_background": "light"
     },
     "output_type": "display_data"
    }
   ],
   "source": [
    "plt.plot(grid_DT_df[['mean_test_score', 'param_max_depth']].groupby('param_max_depth').mean(), \n",
    "         marker='o', linestyle='None', markersize = 10.0)\n",
    "plt.xlabel('Depth of tree')\n",
    "plt.ylabel('Average testing score (recall)')\n",
    "plt.title('Average testing score according to the depth of the tree')\n",
    "\n",
    "print(grid_DT.best_params_)"
   ]
  },
  {
   "cell_type": "markdown",
   "metadata": {},
   "source": [
    "## That's my decision tree done.\n",
    "## Let's try another non-parametric algorithm, support vector machines. \n",
    "\n",
    "For SVM, I need to normalise my data for zero mean and unit variance. \n",
    "\n",
    "Some info on SVM https://statinfer.com/204-6-8-svm-advantages-disadvantages-applications/\n",
    "\n",
    "Application to this dataset https://towardsdatascience.com/breast-cancer-classification-using-support-vector-machine-svm-a510907d4878\n",
    "\n",
    "Tuning inspired by https://medium.com/@aneesha/svm-parameter-tuning-in-scikit-learn-using-gridsearchcv-2413c02125a0"
   ]
  },
  {
   "cell_type": "code",
   "execution_count": 12,
   "metadata": {},
   "outputs": [],
   "source": [
    "X_train_scaled = preprocessing.scale(X_train)\n",
    "X_test_scaled  = preprocessing.scale(X_test)"
   ]
  },
  {
   "cell_type": "code",
   "execution_count": 13,
   "metadata": {},
   "outputs": [
    {
     "data": {
      "text/plain": [
       "GridSearchCV(cv='warn', error_score='raise-deprecating',\n",
       "             estimator=SVC(C=1.0, cache_size=200, class_weight=None, coef0=0.0,\n",
       "                           decision_function_shape='ovr', degree=3,\n",
       "                           gamma='auto_deprecated', kernel='rbf', max_iter=-1,\n",
       "                           probability=True, random_state=None, shrinking=True,\n",
       "                           tol=0.001, verbose=False),\n",
       "             iid='warn', n_jobs=None,\n",
       "             param_grid={'C': [0.01, 0.1, 1, 10, 100], 'kernel': ['linear']},\n",
       "             pre_dispatch='2*n_jobs', refit=True, return_train_score=False,\n",
       "             scoring='roc_auc', verbose=0)"
      ]
     },
     "execution_count": 13,
     "metadata": {},
     "output_type": "execute_result"
    }
   ],
   "source": [
    "# Tune support vector machine\n",
    "kernels = ['linear','poly','rbf']\n",
    "Cs = [0.01, 0.1, 1, 10, 100]\n",
    "gammas = [0.001, 0.01, 0.1, 1]\n",
    "params_SVM = {\"kernel\": ['linear'], \"C\":Cs}\n",
    "{\"kernel\" : ['poly'],\"gamma\": gammas, \"C\":Cs}\n",
    "{\"kernel\" : ['rbf'],\"gamma\": gammas, \"C\":Cs}\n",
    "classifier_SVM = svm.SVC(probability=True)\n",
    "grid_SVM = GridSearchCV(classifier_SVM,params_SVM,scoring='roc_auc')\n",
    "grid_SVM.fit(X_train_scaled,y_train)"
   ]
  },
  {
   "cell_type": "code",
   "execution_count": 14,
   "metadata": {},
   "outputs": [
    {
     "data": {
      "text/html": [
       "<div>\n",
       "<style scoped>\n",
       "    .dataframe tbody tr th:only-of-type {\n",
       "        vertical-align: middle;\n",
       "    }\n",
       "\n",
       "    .dataframe tbody tr th {\n",
       "        vertical-align: top;\n",
       "    }\n",
       "\n",
       "    .dataframe thead th {\n",
       "        text-align: right;\n",
       "    }\n",
       "</style>\n",
       "<table border=\"1\" class=\"dataframe\">\n",
       "  <thead>\n",
       "    <tr style=\"text-align: right;\">\n",
       "      <th></th>\n",
       "      <th>mean_fit_time</th>\n",
       "      <th>std_fit_time</th>\n",
       "      <th>mean_score_time</th>\n",
       "      <th>std_score_time</th>\n",
       "      <th>param_C</th>\n",
       "      <th>param_kernel</th>\n",
       "      <th>params</th>\n",
       "      <th>split0_test_score</th>\n",
       "      <th>split1_test_score</th>\n",
       "      <th>split2_test_score</th>\n",
       "      <th>mean_test_score</th>\n",
       "      <th>std_test_score</th>\n",
       "      <th>rank_test_score</th>\n",
       "    </tr>\n",
       "  </thead>\n",
       "  <tbody>\n",
       "    <tr>\n",
       "      <td>0</td>\n",
       "      <td>0.004345</td>\n",
       "      <td>0.000484</td>\n",
       "      <td>0.000977</td>\n",
       "      <td>0.000018</td>\n",
       "      <td>0.01</td>\n",
       "      <td>linear</td>\n",
       "      <td>{'C': 0.01, 'kernel': 'linear'}</td>\n",
       "      <td>0.997807</td>\n",
       "      <td>0.983459</td>\n",
       "      <td>0.993609</td>\n",
       "      <td>0.991652</td>\n",
       "      <td>0.006024</td>\n",
       "      <td>2</td>\n",
       "    </tr>\n",
       "    <tr>\n",
       "      <td>1</td>\n",
       "      <td>0.003354</td>\n",
       "      <td>0.000478</td>\n",
       "      <td>0.001332</td>\n",
       "      <td>0.000472</td>\n",
       "      <td>0.1</td>\n",
       "      <td>linear</td>\n",
       "      <td>{'C': 0.1, 'kernel': 'linear'}</td>\n",
       "      <td>0.998721</td>\n",
       "      <td>0.985150</td>\n",
       "      <td>0.994549</td>\n",
       "      <td>0.992833</td>\n",
       "      <td>0.005676</td>\n",
       "      <td>1</td>\n",
       "    </tr>\n",
       "    <tr>\n",
       "      <td>2</td>\n",
       "      <td>0.004324</td>\n",
       "      <td>0.000479</td>\n",
       "      <td>0.000667</td>\n",
       "      <td>0.000471</td>\n",
       "      <td>1</td>\n",
       "      <td>linear</td>\n",
       "      <td>{'C': 1, 'kernel': 'linear'}</td>\n",
       "      <td>0.997807</td>\n",
       "      <td>0.981015</td>\n",
       "      <td>0.977632</td>\n",
       "      <td>0.985539</td>\n",
       "      <td>0.008840</td>\n",
       "      <td>3</td>\n",
       "    </tr>\n",
       "    <tr>\n",
       "      <td>3</td>\n",
       "      <td>0.006663</td>\n",
       "      <td>0.001704</td>\n",
       "      <td>0.001003</td>\n",
       "      <td>0.000009</td>\n",
       "      <td>10</td>\n",
       "      <td>linear</td>\n",
       "      <td>{'C': 10, 'kernel': 'linear'}</td>\n",
       "      <td>0.992142</td>\n",
       "      <td>0.969173</td>\n",
       "      <td>0.971992</td>\n",
       "      <td>0.977832</td>\n",
       "      <td>0.010250</td>\n",
       "      <td>4</td>\n",
       "    </tr>\n",
       "    <tr>\n",
       "      <td>4</td>\n",
       "      <td>0.009001</td>\n",
       "      <td>0.003559</td>\n",
       "      <td>0.000999</td>\n",
       "      <td>0.000023</td>\n",
       "      <td>100</td>\n",
       "      <td>linear</td>\n",
       "      <td>{'C': 100, 'kernel': 'linear'}</td>\n",
       "      <td>0.987025</td>\n",
       "      <td>0.966165</td>\n",
       "      <td>0.971992</td>\n",
       "      <td>0.975114</td>\n",
       "      <td>0.008804</td>\n",
       "      <td>5</td>\n",
       "    </tr>\n",
       "  </tbody>\n",
       "</table>\n",
       "</div>"
      ],
      "text/plain": [
       "   mean_fit_time  std_fit_time  mean_score_time  std_score_time param_C  \\\n",
       "0       0.004345      0.000484         0.000977        0.000018    0.01   \n",
       "1       0.003354      0.000478         0.001332        0.000472     0.1   \n",
       "2       0.004324      0.000479         0.000667        0.000471       1   \n",
       "3       0.006663      0.001704         0.001003        0.000009      10   \n",
       "4       0.009001      0.003559         0.000999        0.000023     100   \n",
       "\n",
       "  param_kernel                           params  split0_test_score  \\\n",
       "0       linear  {'C': 0.01, 'kernel': 'linear'}           0.997807   \n",
       "1       linear   {'C': 0.1, 'kernel': 'linear'}           0.998721   \n",
       "2       linear     {'C': 1, 'kernel': 'linear'}           0.997807   \n",
       "3       linear    {'C': 10, 'kernel': 'linear'}           0.992142   \n",
       "4       linear   {'C': 100, 'kernel': 'linear'}           0.987025   \n",
       "\n",
       "   split1_test_score  split2_test_score  mean_test_score  std_test_score  \\\n",
       "0           0.983459           0.993609         0.991652        0.006024   \n",
       "1           0.985150           0.994549         0.992833        0.005676   \n",
       "2           0.981015           0.977632         0.985539        0.008840   \n",
       "3           0.969173           0.971992         0.977832        0.010250   \n",
       "4           0.966165           0.971992         0.975114        0.008804   \n",
       "\n",
       "   rank_test_score  \n",
       "0                2  \n",
       "1                1  \n",
       "2                3  \n",
       "3                4  \n",
       "4                5  "
      ]
     },
     "execution_count": 14,
     "metadata": {},
     "output_type": "execute_result"
    }
   ],
   "source": [
    "grid_SVM_df = pd.DataFrame(grid_SVM.cv_results_)\n",
    "grid_SVM_df.head()"
   ]
  },
  {
   "cell_type": "code",
   "execution_count": 15,
   "metadata": {},
   "outputs": [
    {
     "name": "stdout",
     "output_type": "stream",
     "text": [
      "{'C': 0.1, 'kernel': 'linear'}\n",
      "Accuracy: 0.9824561403508771\n",
      "[[71  0]\n",
      " [ 2 41]]\n"
     ]
    }
   ],
   "source": [
    "prediction_SVM = grid_SVM.predict(X_test_scaled)\n",
    "probability_SVM = grid_SVM.predict_proba(X_test_scaled)\n",
    "print(grid_SVM.best_params_)\n",
    "print(\"Accuracy:\",metrics.accuracy_score(y_test, prediction_SVM))\n",
    "print(metrics.confusion_matrix(y_test, prediction_SVM))"
   ]
  },
  {
   "cell_type": "code",
   "execution_count": 49,
   "metadata": {},
   "outputs": [
    {
     "name": "stdout",
     "output_type": "stream",
     "text": [
      "0.9534883720930233\n",
      "1.0\n"
     ]
    }
   ],
   "source": [
    "svm_tn, svm_fp, svm_fn, svm_tp = metrics.confusion_matrix(y_test, prediction_SVM).ravel()\n",
    "recall_SVM = svm_tp/(svm_tp + svm_fn)\n",
    "precision_SVM = svm_tp/(svm_tp + svm_fp)\n",
    "print(recall_SVM)\n",
    "print(precision_SVM)"
   ]
  },
  {
   "cell_type": "markdown",
   "metadata": {},
   "source": [
    "### As my SVM model uses a linear kernel, I can assess feature importance\n",
    "taken from https://stackoverflow.com/questions/41592661/determining-the-most-contributing-features-for-svm-classifier-in-sklearn"
   ]
  },
  {
   "cell_type": "code",
   "execution_count": 17,
   "metadata": {},
   "outputs": [
    {
     "data": {
      "image/png": "[encoded data removed]",
      "text/plain": [
       "<Figure size 720x576 with 1 Axes>"
      ]
     },
     "metadata": {
      "needs_background": "light"
     },
     "output_type": "display_data"
    }
   ],
   "source": [
    "def f_importances(coef,estimator, names, top=-1):\n",
    "    imp = coef\n",
    "    imp, names = zip(*sorted(list(zip(imp, names))))\n",
    "\n",
    "    if top == -1:\n",
    "        top = len(names)\n",
    "    plt.figure(figsize=(10,8))\n",
    "    plt.barh(range(top), imp[::-1][0:top], align='center')\n",
    "    plt.yticks(range(top), names[::-1][0:top])\n",
    "    plt.title(\"Feature importance in {}.\".format(estimator))\n",
    "    plt.gca().invert_yaxis()\n",
    "    plt.show()\n",
    "\n",
    "features_names = list(df_processed.columns)    \n",
    "model_SVM = grid_SVM.best_estimator_\n",
    "f_importances(abs(model_SVM.coef_[0]),\"SVM\", features_names, top=-1)\n"
   ]
  },
  {
   "cell_type": "markdown",
   "metadata": {},
   "source": [
    "## K-nearest neighbours, popular with this dataset\n",
    "See https://www.geeksforgeeks.org/ml-kaggle-breast-cancer-wisconsin-diagnosis-using-knn/ or *Sarkar M, Leong TY. Application of K-nearest neighbors algorithm on breast cancer diagnosis problem. Proc AMIA Symp. 2000;759–763.*"
   ]
  },
  {
   "cell_type": "code",
   "execution_count": 18,
   "metadata": {},
   "outputs": [
    {
     "data": {
      "text/plain": [
       "GridSearchCV(cv='warn', error_score='raise-deprecating',\n",
       "             estimator=KNeighborsClassifier(algorithm='auto', leaf_size=30,\n",
       "                                            metric='minkowski',\n",
       "                                            metric_params=None, n_jobs=None,\n",
       "                                            n_neighbors=5, p=2,\n",
       "                                            weights='uniform'),\n",
       "             iid='warn', n_jobs=None,\n",
       "             param_grid={'n_neighbors': [5, 10, 15, 20], 'p': [1, 2]},\n",
       "             pre_dispatch='2*n_jobs', refit=True, return_train_score=False,\n",
       "             scoring='roc_auc', verbose=0)"
      ]
     },
     "execution_count": 18,
     "metadata": {},
     "output_type": "execute_result"
    }
   ],
   "source": [
    "# Tune KNN\n",
    "neighbours = [5,10,15,20]\n",
    "power_parameter = [1,2]\n",
    "params_KNN = {\"n_neighbors\": neighbours, \"p\": power_parameter}\n",
    "classifier_KNN = KNeighborsClassifier()\n",
    "grid_KNN = GridSearchCV(classifier_KNN,params_KNN,scoring='roc_auc')\n",
    "grid_KNN.fit(X_train_scaled,y_train)"
   ]
  },
  {
   "cell_type": "code",
   "execution_count": 19,
   "metadata": {},
   "outputs": [
    {
     "name": "stdout",
     "output_type": "stream",
     "text": [
      "{'n_neighbors': 20, 'p': 2}\n",
      "Accuracy: 0.956140350877193\n",
      "[[70  1]\n",
      " [ 4 39]]\n"
     ]
    }
   ],
   "source": [
    "prediction_KNN = grid_KNN.predict(X_test_scaled)\n",
    "probability_KNN = grid_KNN.predict_proba(X_test_scaled)\n",
    "print(grid_KNN.best_params_)\n",
    "print(\"Accuracy:\",metrics.accuracy_score(y_test, prediction_KNN))\n",
    "print(metrics.confusion_matrix(y_test, prediction_KNN))"
   ]
  },
  {
   "cell_type": "code",
   "execution_count": 20,
   "metadata": {},
   "outputs": [
    {
     "name": "stdout",
     "output_type": "stream",
     "text": [
      "0.9069767441860465\n",
      "0.975\n"
     ]
    }
   ],
   "source": [
    "knn_tn, knn_fp, knn_fn, knn_tp = metrics.confusion_matrix(y_test, prediction_KNN).ravel()\n",
    "recall_KNN = knn_tp/(knn_tp + knn_fn)\n",
    "precision_KNN = knn_tp/(knn_tp + knn_fp)\n",
    "print(recall_KNN)\n",
    "print(precision_KNN)"
   ]
  },
  {
   "cell_type": "markdown",
   "metadata": {},
   "source": [
    "## A simple ensemble model: combine my KNN and SVM\n",
    "using the best parameters from my grid search"
   ]
  },
  {
   "cell_type": "code",
   "execution_count": 21,
   "metadata": {},
   "outputs": [
    {
     "data": {
      "text/plain": [
       "VotingClassifier(estimators=[('knn',\n",
       "                              KNeighborsClassifier(algorithm='auto',\n",
       "                                                   leaf_size=30,\n",
       "                                                   metric='minkowski',\n",
       "                                                   metric_params=None,\n",
       "                                                   n_jobs=None, n_neighbors=20,\n",
       "                                                   p=2, weights='uniform')),\n",
       "                             ('svm',\n",
       "                              SVC(C=0.1, cache_size=200, class_weight=None,\n",
       "                                  coef0=0.0, decision_function_shape='ovr',\n",
       "                                  degree=3, gamma='auto_deprecated',\n",
       "                                  kernel='linear', max_iter=-1,\n",
       "                                  probability=True, random_state=None,\n",
       "                                  shrinking=True, tol=0.001, verbose=False))],\n",
       "                 flatten_transform=True, n_jobs=None, voting='soft',\n",
       "                 weights=None)"
      ]
     },
     "execution_count": 21,
     "metadata": {},
     "output_type": "execute_result"
    }
   ],
   "source": [
    "model_KNN= grid_KNN.best_estimator_\n",
    "model_SVM= grid_SVM.best_estimator_\n",
    "classifier_SVM_KNN = VotingClassifier(estimators = [('knn',model_KNN),('svm',model_SVM)],voting = 'soft')\n",
    "classifier_SVM_KNN.fit(X_train_scaled,y_train)"
   ]
  },
  {
   "cell_type": "code",
   "execution_count": 22,
   "metadata": {},
   "outputs": [
    {
     "name": "stdout",
     "output_type": "stream",
     "text": [
      "Accuracy: 0.9736842105263158\n",
      "[[71  0]\n",
      " [ 3 40]]\n"
     ]
    }
   ],
   "source": [
    "prediction_SVM_KNN = classifier_SVM_KNN.predict(X_test_scaled)\n",
    "probability_SVM_KNN = classifier_SVM_KNN.predict_proba(X_test_scaled)\n",
    "print(\"Accuracy:\",metrics.accuracy_score(y_test, prediction_SVM_KNN))\n",
    "print(metrics.confusion_matrix(y_test, prediction_SVM_KNN))"
   ]
  },
  {
   "cell_type": "code",
   "execution_count": 23,
   "metadata": {},
   "outputs": [
    {
     "name": "stdout",
     "output_type": "stream",
     "text": [
      "0.9302325581395349\n",
      "1.0\n"
     ]
    }
   ],
   "source": [
    "svm_knn_tn, svm_knn_fp, svm_knn_fn, svm_knn_tp = metrics.confusion_matrix(y_test, prediction_SVM_KNN).ravel()\n",
    "recall_SVM_KNN = svm_knn_tp/(svm_knn_tp + svm_knn_fn)\n",
    "precision_SVM_KNN = svm_knn_tp/(svm_knn_tp + svm_knn_fp)\n",
    "print(recall_SVM_KNN)\n",
    "print(precision_SVM_KNN)"
   ]
  },
  {
   "cell_type": "markdown",
   "metadata": {},
   "source": [
    "## Bagging: Random Forest"
   ]
  },
  {
   "cell_type": "code",
   "execution_count": 24,
   "metadata": {},
   "outputs": [
    {
     "name": "stdout",
     "output_type": "stream",
     "text": [
      "Fitting 5 folds for each of 300 candidates, totalling 1500 fits\n"
     ]
    },
    {
     "name": "stderr",
     "output_type": "stream",
     "text": [
      "[Parallel(n_jobs=-1)]: Using backend LokyBackend with 12 concurrent workers.\n",
      "[Parallel(n_jobs=-1)]: Done  17 tasks      | elapsed:    2.7s\n",
      "[Parallel(n_jobs=-1)]: Done 138 tasks      | elapsed:    4.1s\n",
      "[Parallel(n_jobs=-1)]: Done 381 tasks      | elapsed:    6.8s\n",
      "[Parallel(n_jobs=-1)]: Done 947 tasks      | elapsed:   13.0s\n",
      "[Parallel(n_jobs=-1)]: Done 1477 out of 1500 | elapsed:   18.7s remaining:    0.2s\n",
      "[Parallel(n_jobs=-1)]: Done 1500 out of 1500 | elapsed:   18.9s finished\n"
     ]
    },
    {
     "data": {
      "text/plain": [
       "RandomizedSearchCV(cv=5, error_score='raise-deprecating',\n",
       "                   estimator=RandomForestClassifier(bootstrap=True,\n",
       "                                                    class_weight=None,\n",
       "                                                    criterion='gini',\n",
       "                                                    max_depth=None,\n",
       "                                                    max_features='auto',\n",
       "                                                    max_leaf_nodes=None,\n",
       "                                                    min_impurity_decrease=0.0,\n",
       "                                                    min_impurity_split=None,\n",
       "                                                    min_samples_leaf=1,\n",
       "                                                    min_samples_split=2,\n",
       "                                                    min_weight_fraction_leaf=0.0,\n",
       "                                                    n_estimators='warn',\n",
       "                                                    n_jobs=None,\n",
       "                                                    oob_sc...\n",
       "                   param_distributions={'bootstrap': [True, False],\n",
       "                                        'max_depth': [5, 10, 15, 20, 25, 30, 35,\n",
       "                                                      40, 45, 50, 55],\n",
       "                                        'max_features': ['auto', 'sqrt',\n",
       "                                                         'log2'],\n",
       "                                        'min_samples_leaf': [10, 20, 30, 40],\n",
       "                                        'min_samples_split': [2, 5, 10],\n",
       "                                        'n_estimators': [50, 60, 70, 80, 90,\n",
       "                                                         100, 110, 120, 130,\n",
       "                                                         140, 150]},\n",
       "                   pre_dispatch='2*n_jobs', random_state=42, refit=True,\n",
       "                   return_train_score=False, scoring='roc_auc', verbose=2)"
      ]
     },
     "execution_count": 24,
     "metadata": {},
     "output_type": "execute_result"
    }
   ],
   "source": [
    "# Tune RF\n",
    "n_estimators = [int(x) for x in np.linspace(start = 50, stop = 150, num = 11)]\n",
    "max_features = ['auto', 'sqrt','log2']\n",
    "max_depth = [int(x) for x in np.linspace(5, 55, num = 11)]\n",
    "min_samples_split = [2, 5, 10]\n",
    "min_samples_leaf = [10, 20, 30, 40]\n",
    "bootstrap = [True,False]\n",
    "params_RF = {'n_estimators': n_estimators,'max_features':max_features,'max_depth':max_depth,\n",
    "             'min_samples_split':min_samples_split,'min_samples_leaf':min_samples_leaf,'bootstrap':bootstrap}\n",
    "classifier_RF = RandomForestClassifier()\n",
    "grid_RF = RandomizedSearchCV(classifier_RF,params_RF,n_iter = 300,scoring='roc_auc',random_state=random_state,n_jobs = -1,cv=5,verbose=2)\n",
    "grid_RF.fit(X_train,y_train)"
   ]
  },
  {
   "cell_type": "code",
   "execution_count": 25,
   "metadata": {},
   "outputs": [
    {
     "name": "stdout",
     "output_type": "stream",
     "text": [
      "{'n_estimators': 130, 'min_samples_split': 2, 'min_samples_leaf': 10, 'max_features': 'log2', 'max_depth': 20, 'bootstrap': False}\n",
      "Accuracy: 0.9649122807017544\n",
      "[[70  1]\n",
      " [ 3 40]]\n"
     ]
    }
   ],
   "source": [
    "prediction_RF =grid_RF.predict(X_test)\n",
    "probability_RF = grid_RF.predict_proba(X_test)\n",
    "print(grid_RF.best_params_)\n",
    "print(\"Accuracy:\",metrics.accuracy_score(y_test, prediction_RF))\n",
    "print(metrics.confusion_matrix(y_test, prediction_RF))"
   ]
  },
  {
   "cell_type": "code",
   "execution_count": 26,
   "metadata": {},
   "outputs": [
    {
     "name": "stdout",
     "output_type": "stream",
     "text": [
      "0.9302325581395349\n",
      "0.975609756097561\n"
     ]
    }
   ],
   "source": [
    "rf_tn, rf_fp, rf_fn, rf_tp = metrics.confusion_matrix(y_test, prediction_RF).ravel()\n",
    "recall_RF = rf_tp/(rf_tp + rf_fn)\n",
    "precision_RF = rf_tp/(rf_tp + rf_fp)\n",
    "print(recall_RF)\n",
    "print(precision_RF)"
   ]
  },
  {
   "cell_type": "markdown",
   "metadata": {},
   "source": [
    "### Random Forest feature importance\n",
    "https://blog.datadive.net/selecting-good-features-part-iii-random-forests/"
   ]
  },
  {
   "cell_type": "code",
   "execution_count": 27,
   "metadata": {
    "scrolled": true
   },
   "outputs": [
    {
     "name": "stdout",
     "output_type": "stream",
     "text": [
      "Features sorted by their score(decrease of impurity):\n",
      "[(0.1353, 'concave points_mean'), (0.1282, 'radius_worst'), (0.1073, 'area_worst'), (0.0992, 'concave points_worst'), (0.0796, 'area_mean'), (0.0653, 'perimeter_worst'), (0.0611, 'concavity_mean'), (0.0559, 'perimeter_mean'), (0.0555, 'radius_mean'), (0.0528, 'concavity_worst'), (0.0257, 'area_se'), (0.0235, 'compactness_worst'), (0.0188, 'radius_se'), (0.0147, 'texture_worst'), (0.014, 'texture_mean'), (0.0129, 'perimeter_se'), (0.0117, 'symmetry_worst'), (0.0059, 'concavity_se'), (0.0054, 'smoothness_worst'), (0.0053, 'compactness_mean'), (0.0041, 'fractal_dimension_worst'), (0.0037, 'smoothness_mean'), (0.0036, 'compactness_se'), (0.0022, 'fractal_dimension_se'), (0.0022, 'fractal_dimension_mean'), (0.002, 'symmetry_se'), (0.0015, 'concave points_se'), (0.001, 'texture_se'), (0.0008, 'smoothness_se'), (0.0007, 'symmetry_mean')]\n"
     ]
    }
   ],
   "source": [
    "print (\"Features sorted by their score(decrease of impurity):\")\n",
    "print (sorted(zip(map(lambda x: round(x, 4), grid_RF.best_estimator_.feature_importances_), features_names), \n",
    "             reverse=True))"
   ]
  },
  {
   "cell_type": "code",
   "execution_count": 28,
   "metadata": {
    "scrolled": false
   },
   "outputs": [
    {
     "data": {
      "image/png": "[encoded data removed]",
      "text/plain": [
       "<Figure size 720x576 with 1 Axes>"
      ]
     },
     "metadata": {
      "needs_background": "light"
     },
     "output_type": "display_data"
    }
   ],
   "source": [
    "f_importances(abs(grid_RF.best_estimator_.feature_importances_),\"Random Forest\", features_names, top=-1)"
   ]
  },
  {
   "cell_type": "markdown",
   "metadata": {},
   "source": [
    "## Boosting: AdaBoost\n",
    "mostly used on Decision trees https://machinelearningmastery.com/boosting-and-adaboost-for-machine-learning/"
   ]
  },
  {
   "cell_type": "code",
   "execution_count": 44,
   "metadata": {},
   "outputs": [],
   "source": [
    "params_AB = {\n",
    " 'n_estimators': [20, 50, 100],\n",
    " 'learning_rate' : [0.01,0.05,0.1,0.3,1]}\n",
    "classifier_AB = AdaBoostClassifier(random_state=random_state)\n",
    "grid_AB = RandomizedSearchCV(classifier_AB,params_AB,n_iter = 300,scoring='roc_auc',random_state=random_state,n_jobs = -1,cv=5,verbose=0)\n",
    "grid_AB.fit(X_train,y_train);"
   ]
  },
  {
   "cell_type": "code",
   "execution_count": 45,
   "metadata": {},
   "outputs": [
    {
     "name": "stdout",
     "output_type": "stream",
     "text": [
      "Accuracy: 0.9736842105263158\n",
      "[[70  1]\n",
      " [ 2 41]]\n"
     ]
    }
   ],
   "source": [
    "prediction_AB = grid_AB.predict(X_test)\n",
    "probability_AB = grid_AB.predict_proba(X_test)\n",
    "print(\"Accuracy:\",metrics.accuracy_score(y_test, prediction_AB))\n",
    "print(metrics.confusion_matrix(y_test, prediction_AB))"
   ]
  },
  {
   "cell_type": "code",
   "execution_count": 46,
   "metadata": {},
   "outputs": [
    {
     "name": "stdout",
     "output_type": "stream",
     "text": [
      "0.9534883720930233\n",
      "0.9761904761904762\n"
     ]
    }
   ],
   "source": [
    "ab_tn, ab_fp, ab_fn, ab_tp = metrics.confusion_matrix(y_test, prediction_AB).ravel()\n",
    "recall_AB = ab_tp/(ab_tp + ab_fn)\n",
    "precision_AB = ab_tp/(ab_tp + ab_fp)\n",
    "print(recall_AB)\n",
    "print(precision_AB)"
   ]
  },
  {
   "cell_type": "markdown",
   "metadata": {},
   "source": [
    "## Gradient boosting\n",
    "tuning: https://www.analyticsvidhya.com/blog/2016/02/complete-guide-parameter-tuning-gradient-boosting-gbm-python/"
   ]
  },
  {
   "cell_type": "code",
   "execution_count": 32,
   "metadata": {},
   "outputs": [
    {
     "name": "stdout",
     "output_type": "stream",
     "text": [
      "Fitting 5 folds for each of 300 candidates, totalling 1500 fits\n"
     ]
    },
    {
     "name": "stderr",
     "output_type": "stream",
     "text": [
      "[Parallel(n_jobs=-1)]: Using backend LokyBackend with 12 concurrent workers.\n",
      "[Parallel(n_jobs=-1)]: Done  17 tasks      | elapsed:    0.1s\n",
      "[Parallel(n_jobs=-1)]: Done 480 tasks      | elapsed:    4.0s\n",
      "[Parallel(n_jobs=-1)]: Done 1292 tasks      | elapsed:   11.1s\n",
      "[Parallel(n_jobs=-1)]: Done 1500 out of 1500 | elapsed:   13.2s finished\n"
     ]
    },
    {
     "data": {
      "text/plain": [
       "RandomizedSearchCV(cv=5, error_score='raise-deprecating',\n",
       "                   estimator=GradientBoostingClassifier(criterion='friedman_mse',\n",
       "                                                        init=None,\n",
       "                                                        learning_rate=0.1,\n",
       "                                                        loss='deviance',\n",
       "                                                        max_depth=3,\n",
       "                                                        max_features=None,\n",
       "                                                        max_leaf_nodes=None,\n",
       "                                                        min_impurity_decrease=0.0,\n",
       "                                                        min_impurity_split=None,\n",
       "                                                        min_samples_leaf=1,\n",
       "                                                        min_samples_split=2,\n",
       "                                                        min_weight_fraction_leaf=0.0,\n",
       "                                                        n_estimators=100,\n",
       "                                                        n_i...\n",
       "                   param_distributions={'learning_rate': [0.1, 0.2, 0.3],\n",
       "                                        'max_depth': [5, 10, 15, 20, 25, 30, 35,\n",
       "                                                      40, 45, 50, 55],\n",
       "                                        'max_features': ['auto', 'sqrt',\n",
       "                                                         'log2'],\n",
       "                                        'min_samples_leaf': [10, 20, 30, 40],\n",
       "                                        'min_samples_split': [2, 5, 10],\n",
       "                                        'n_estimators': [50, 60, 70, 80, 90,\n",
       "                                                         100, 110, 120, 130,\n",
       "                                                         140, 150]},\n",
       "                   pre_dispatch='2*n_jobs', random_state=42, refit=True,\n",
       "                   return_train_score=False, scoring='roc_auc', verbose=2)"
      ]
     },
     "execution_count": 32,
     "metadata": {},
     "output_type": "execute_result"
    }
   ],
   "source": [
    "# Tuning with same parameters as my random forest\n",
    "learning_rate = [0.1, 0.2, 0.3];\n",
    "params_GB = {'learning_rate': learning_rate,'n_estimators': n_estimators,'max_features':max_features,'max_depth':max_depth,\n",
    "             'min_samples_split':min_samples_split,'min_samples_leaf':min_samples_leaf}\n",
    "classifier_GB = GradientBoostingClassifier()\n",
    "grid_GB = RandomizedSearchCV(classifier_GB,params_GB,n_iter = 300,scoring='roc_auc',random_state=random_state,n_jobs = -1,cv=5,verbose=2)\n",
    "grid_GB.fit(X_train,y_train)"
   ]
  },
  {
   "cell_type": "code",
   "execution_count": 33,
   "metadata": {},
   "outputs": [
    {
     "name": "stdout",
     "output_type": "stream",
     "text": [
      "{'n_estimators': 140, 'min_samples_split': 2, 'min_samples_leaf': 40, 'max_features': 'sqrt', 'max_depth': 45, 'learning_rate': 0.2}\n",
      "Accuracy: 0.9649122807017544\n",
      "[[70  1]\n",
      " [ 3 40]]\n"
     ]
    }
   ],
   "source": [
    "prediction_GB = grid_GB.predict(X_test)\n",
    "probability_GB = grid_GB.predict_proba(X_test)\n",
    "print(grid_GB.best_params_)\n",
    "print(\"Accuracy:\",metrics.accuracy_score(y_test, prediction_GB))\n",
    "print(metrics.confusion_matrix(y_test, prediction_GB))"
   ]
  },
  {
   "cell_type": "code",
   "execution_count": 34,
   "metadata": {},
   "outputs": [
    {
     "name": "stdout",
     "output_type": "stream",
     "text": [
      "0.9302325581395349\n",
      "0.975609756097561\n"
     ]
    }
   ],
   "source": [
    "gb_tn, gb_fp, gb_fn, gb_tp = metrics.confusion_matrix(y_test, prediction_GB).ravel()\n",
    "recall_GB = gb_tp/(gb_tp + gb_fn)\n",
    "precision_GB = gb_tp/(gb_tp + gb_fp)\n",
    "print(recall_GB)\n",
    "print(precision_GB)"
   ]
  },
  {
   "cell_type": "code",
   "execution_count": 35,
   "metadata": {},
   "outputs": [
    {
     "data": {
      "image/png": "[encoded data removed]",
      "text/plain": [
       "<Figure size 720x576 with 1 Axes>"
      ]
     },
     "metadata": {
      "needs_background": "light"
     },
     "output_type": "display_data"
    }
   ],
   "source": [
    "f_importances(abs(grid_GB.best_estimator_.feature_importances_),\"Gradient Boosting\", features_names, top=-1)"
   ]
  },
  {
   "cell_type": "markdown",
   "metadata": {},
   "source": [
    "## Compare all models"
   ]
  },
  {
   "cell_type": "code",
   "execution_count": 47,
   "metadata": {},
   "outputs": [
    {
     "data": {
      "image/png": "[encoded data removed]",
      "text/plain": [
       "<Figure size 864x864 with 1 Axes>"
      ]
     },
     "metadata": {
      "needs_background": "light"
     },
     "output_type": "display_data"
    }
   ],
   "source": [
    "false_pos_rate_DT,true_pos_rate_DT, thresholds_DT = roc_curve(y_test, probability_DT[:, 1])\n",
    "false_pos_rate_SVM,true_pos_rate_SVM, thresholds_SVM = roc_curve(y_test, probability_SVM[:, 1])\n",
    "false_pos_rate_KNN,true_pos_rate_KNN, thresholds_KNN = roc_curve(y_test, probability_KNN[:, 1])\n",
    "false_pos_rate_SVM_KNN,true_pos_rate_SVM_KNN, thresholds_SVM_KNN = roc_curve(y_test, probability_SVM_KNN[:, 1])\n",
    "false_pos_rate_RF,true_pos_rate_RF, thresholds_RF = roc_curve(y_test, probability_RF[:, 1])\n",
    "false_pos_rate_AB,true_pos_rate_AB, thresholds_AB = roc_curve(y_test, probability_AB[:, 1])\n",
    "false_pos_rate_GB,true_pos_rate_GB, thresholds_GB = roc_curve(y_test, probability_GB[:, 1])\n",
    "\n",
    "# Plot the ROC curve\n",
    "fig = plt.figure(figsize=(12,12))\n",
    "plt.plot([0, 1], [0, 1], 'k--')\n",
    "plt.plot(false_pos_rate_DT, true_pos_rate_DT, label='DT')\n",
    "plt.plot(false_pos_rate_SVM, true_pos_rate_SVM, label='SVM')\n",
    "plt.plot(false_pos_rate_KNN, true_pos_rate_KNN, label='KNN')\n",
    "plt.plot(false_pos_rate_SVM_KNN, true_pos_rate_SVM_KNN, label='SVM/KNN')\n",
    "plt.plot(false_pos_rate_RF, true_pos_rate_RF, label='RF')\n",
    "plt.plot(false_pos_rate_AB, true_pos_rate_AB, label='AB')\n",
    "plt.plot(false_pos_rate_GB, true_pos_rate_GB, label='GB')\n",
    "plt.xlabel('False positive rate')\n",
    "plt.ylabel('True positive rate')\n",
    "plt.title('ROC')\n",
    "plt.legend(loc='best')\n",
    "plt.show()"
   ]
  },
  {
   "cell_type": "code",
   "execution_count": 37,
   "metadata": {},
   "outputs": [
    {
     "name": "stdout",
     "output_type": "stream",
     "text": [
      "[2.         1.         0.86666667 0.78947368 0.57894737 0.2\n",
      " 0.125      0.0625     0.        ]\n",
      "[2.00000000e+00 1.00000000e+00 3.57269956e-01 7.38178983e-02\n",
      " 7.10300366e-02 2.67327209e-06]\n",
      "[2.   1.   0.95 0.9  0.85 0.8  0.75 0.65 0.6  0.5  0.45 0.3  0.2  0.15\n",
      " 0.1  0.05 0.  ]\n"
     ]
    }
   ],
   "source": [
    "print(thresholds_DT)\n",
    "print(thresholds_SVM)\n",
    "print(thresholds_KNN)"
   ]
  },
  {
   "cell_type": "code",
   "execution_count": 48,
   "metadata": {
    "scrolled": true
   },
   "outputs": [
    {
     "name": "stdout",
     "output_type": "stream",
     "text": [
      "Accuracy DT: 94.73684210526315 Recall DT: 93.02325581395348 AOC DT: 0.962659679004258 Precision DT: 93.02325581395348\n",
      "Accuracy SVM: 98.24561403508771 Recall SVM: 95.34883720930233 AOC SVM: 0.9977071732721913 Precision SVM: 93.02325581395348\n",
      "Accuracy KNN: 95.6140350877193 Recall KNN: 90.69767441860465 AOC KNN: 0.993940386505077 Precision KNN: 97.5\n",
      "Accuracy SVM/KNN: 97.36842105263158 Recall SVM/KNN: 93.02325581395348 AOC SVM_KNN: 0.9970520799213888 Precision SVM/KNN: 100.0\n",
      "Accuracy RF: 96.49122807017544 Recall RF: 93.02325581395348 AOC RF: 0.9957418932197839 Precision RF: 97.5609756097561\n",
      "Accuracy AB: 97.36842105263158 Recall AB: 95.34883720930233 AOC AB: 0.9954143465443825 Precision AB: 97.61904761904762\n",
      "Accuracy GB: 96.49122807017544 Recall GB: 93.02325581395348 AOC GB: 0.9941041598427777 Precision GB: 97.5609756097561\n"
     ]
    }
   ],
   "source": [
    "# Summary\n",
    "print(\"Accuracy DT:\",metrics.accuracy_score(y_test, prediction_DT)*100,\"Recall DT:\",recall_DT*100,\"AOC DT:\",metrics.auc(false_pos_rate_DT, true_pos_rate_DT),\"Precision DT:\",precision_DT*100)\n",
    "print(\"Accuracy SVM:\",metrics.accuracy_score(y_test, prediction_SVM)*100,\"Recall SVM:\",recall_SVM*100,\"AOC SVM:\",metrics.auc(false_pos_rate_SVM, true_pos_rate_SVM),\"Precision SVM:\",precision_SVM*100)\n",
    "print(\"Accuracy KNN:\",metrics.accuracy_score(y_test, prediction_KNN)*100,\"Recall KNN:\",recall_KNN*100,\"AOC KNN:\",metrics.auc(false_pos_rate_KNN, true_pos_rate_KNN),\"Precision KNN:\",precision_KNN*100)\n",
    "print(\"Accuracy SVM/KNN:\",metrics.accuracy_score(y_test, prediction_SVM_KNN)*100,\"Recall SVM/KNN:\",recall_SVM_KNN*100,\"AOC SVM_KNN:\",metrics.auc(false_pos_rate_SVM_KNN, true_pos_rate_SVM_KNN),\"Precision SVM/KNN:\",precision_SVM_KNN*100)\n",
    "print(\"Accuracy RF:\",metrics.accuracy_score(y_test, prediction_RF)*100,\"Recall RF:\",recall_RF*100,\"AOC RF:\",metrics.auc(false_pos_rate_RF, true_pos_rate_RF),\"Precision RF:\",precision_RF*100)\n",
    "print(\"Accuracy AB:\",metrics.accuracy_score(y_test, prediction_AB)*100,\"Recall AB:\",recall_AB*100,\"AOC AB:\",metrics.auc(false_pos_rate_AB, true_pos_rate_AB),\"Precision AB:\",precision_AB*100)\n",
    "print(\"Accuracy GB:\",metrics.accuracy_score(y_test, prediction_GB)*100,\"Recall GB:\",recall_GB*100,\"AOC GB:\",metrics.auc(false_pos_rate_GB, true_pos_rate_GB),\"Precision GB:\",precision_GB*100)"
   ]
  },
  {
   "cell_type": "markdown",
   "metadata": {},
   "source": [
    "## Save my test and train data for use in different notebooks"
   ]
  },
  {
   "cell_type": "code",
   "execution_count": 39,
   "metadata": {},
   "outputs": [
    {
     "data": {
      "text/plain": [
       "numpy.ndarray"
      ]
     },
     "execution_count": 39,
     "metadata": {},
     "output_type": "execute_result"
    }
   ],
   "source": [
    "type(X_test)"
   ]
  },
  {
   "cell_type": "code",
   "execution_count": 40,
   "metadata": {},
   "outputs": [
    {
     "data": {
      "text/plain": [
       "pandas.core.series.Series"
      ]
     },
     "execution_count": 40,
     "metadata": {},
     "output_type": "execute_result"
    }
   ],
   "source": [
    "type(y_train)"
   ]
  },
  {
   "cell_type": "code",
   "execution_count": 41,
   "metadata": {},
   "outputs": [
    {
     "name": "stdout",
     "output_type": "stream",
     "text": [
      "id\n",
      "859471      0\n",
      "873593      1\n",
      "859196      0\n",
      "88466802    0\n",
      "858970      0\n",
      "           ..\n",
      "859711      0\n",
      "863031      0\n",
      "8910721     0\n",
      "908489      1\n",
      "862965      0\n",
      "Name: diagnosis_category, Length: 455, dtype: int64\n"
     ]
    },
    {
     "data": {
      "text/plain": [
       "pandas.core.series.Series"
      ]
     },
     "execution_count": 41,
     "metadata": {},
     "output_type": "execute_result"
    }
   ],
   "source": [
    "print(y_train)\n",
    "type(y_train)"
   ]
  },
  {
   "cell_type": "code",
   "execution_count": 42,
   "metadata": {},
   "outputs": [],
   "source": [
    "#y_train.to_csv(\"/Suzi fun files/QB course/QB_DS_FinalProject/data/interim/y_train.csv\")\n",
    "#y_test.to_csv(\"/Suzi fun files/QB course/QB_DS_FinalProject/data/interim/y_test.csv\")"
   ]
  },
  {
   "cell_type": "code",
   "execution_count": 43,
   "metadata": {},
   "outputs": [],
   "source": [
    "#pd.DataFrame(X_test).to_csv(\"/Suzi fun files/QB course/QB_DS_FinalProject/data/interim/X_test.csv\")\n",
    "#pd.DataFrame(X_train).to_csv(\"/Suzi fun files/QB course/QB_DS_FinalProject/data/interim/X_train.csv\")"
   ]
  }
 ],
 "metadata": {
  "kernelspec": {
   "display_name": "Python 3",
   "language": "python",
   "name": "python3"
  },
  "language_info": {
   "codemirror_mode": {
    "name": "ipython",
    "version": 3
   },
   "file_extension": ".py",
   "mimetype": "text/x-python",
   "name": "python",
   "nbconvert_exporter": "python",
   "pygments_lexer": "ipython3",
   "version": "3.7.4"
  }
 },
 "nbformat": 4,
 "nbformat_minor": 2
}
