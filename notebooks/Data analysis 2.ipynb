{
 "cells": [
  {
   "cell_type": "markdown",
   "metadata": {},
   "source": [
    "# Data analysis 2\n",
    "\n",
    "## Adding some feature engineering"
   ]
  },
  {
   "cell_type": "code",
   "execution_count": 1,
   "metadata": {},
   "outputs": [],
   "source": [
    "#Setting up environment\n",
    "import pandas as pd\n",
    "import os\n",
    "import numpy as np\n",
    "from IPython.display import Math\n",
    "\n",
    "from statsmodels.regression.linear_model import OLS\n",
    "from statsmodels.tools.tools import add_constant\n",
    "import matplotlib.pylab as plt\n",
    "import seaborn as sns\n",
    "from sklearn import metrics, svm,tree,preprocessing\n",
    "from pprint import pprint\n",
    "from sklearn.metrics import (auc, confusion_matrix, roc_curve, accuracy_score, precision_score)\n",
    "from sklearn.model_selection import train_test_split, GridSearchCV,RandomizedSearchCV\n",
    "from sklearn.tree import DecisionTreeClassifier\n",
    "\n",
    "\n",
    "import warnings\n",
    "warnings.filterwarnings('ignore')\n",
    "\n",
    "%matplotlib inline"
   ]
  },
  {
   "cell_type": "code",
   "execution_count": 2,
   "metadata": {},
   "outputs": [
    {
     "data": {
      "text/html": [
       "<div>\n",
       "<style scoped>\n",
       "    .dataframe tbody tr th:only-of-type {\n",
       "        vertical-align: middle;\n",
       "    }\n",
       "\n",
       "    .dataframe tbody tr th {\n",
       "        vertical-align: top;\n",
       "    }\n",
       "\n",
       "    .dataframe thead th {\n",
       "        text-align: right;\n",
       "    }\n",
       "</style>\n",
       "<table border=\"1\" class=\"dataframe\">\n",
       "  <thead>\n",
       "    <tr style=\"text-align: right;\">\n",
       "      <th></th>\n",
       "      <th>radius_mean</th>\n",
       "      <th>texture_mean</th>\n",
       "      <th>perimeter_mean</th>\n",
       "      <th>area_mean</th>\n",
       "      <th>smoothness_mean</th>\n",
       "      <th>compactness_mean</th>\n",
       "      <th>concavity_mean</th>\n",
       "      <th>concave points_mean</th>\n",
       "      <th>symmetry_mean</th>\n",
       "      <th>fractal_dimension_mean</th>\n",
       "      <th>...</th>\n",
       "      <th>texture_worst</th>\n",
       "      <th>perimeter_worst</th>\n",
       "      <th>area_worst</th>\n",
       "      <th>smoothness_worst</th>\n",
       "      <th>compactness_worst</th>\n",
       "      <th>concavity_worst</th>\n",
       "      <th>concave points_worst</th>\n",
       "      <th>symmetry_worst</th>\n",
       "      <th>fractal_dimension_worst</th>\n",
       "      <th>diagnosis_category</th>\n",
       "    </tr>\n",
       "    <tr>\n",
       "      <th>id</th>\n",
       "      <th></th>\n",
       "      <th></th>\n",
       "      <th></th>\n",
       "      <th></th>\n",
       "      <th></th>\n",
       "      <th></th>\n",
       "      <th></th>\n",
       "      <th></th>\n",
       "      <th></th>\n",
       "      <th></th>\n",
       "      <th></th>\n",
       "      <th></th>\n",
       "      <th></th>\n",
       "      <th></th>\n",
       "      <th></th>\n",
       "      <th></th>\n",
       "      <th></th>\n",
       "      <th></th>\n",
       "      <th></th>\n",
       "      <th></th>\n",
       "      <th></th>\n",
       "    </tr>\n",
       "  </thead>\n",
       "  <tbody>\n",
       "    <tr>\n",
       "      <td>842302</td>\n",
       "      <td>17.99</td>\n",
       "      <td>10.38</td>\n",
       "      <td>122.80</td>\n",
       "      <td>1001.0</td>\n",
       "      <td>0.11840</td>\n",
       "      <td>0.27760</td>\n",
       "      <td>0.3001</td>\n",
       "      <td>0.14710</td>\n",
       "      <td>0.2419</td>\n",
       "      <td>0.07871</td>\n",
       "      <td>...</td>\n",
       "      <td>17.33</td>\n",
       "      <td>184.60</td>\n",
       "      <td>2019.0</td>\n",
       "      <td>0.1622</td>\n",
       "      <td>0.6656</td>\n",
       "      <td>0.7119</td>\n",
       "      <td>0.2654</td>\n",
       "      <td>0.4601</td>\n",
       "      <td>0.11890</td>\n",
       "      <td>1</td>\n",
       "    </tr>\n",
       "    <tr>\n",
       "      <td>842517</td>\n",
       "      <td>20.57</td>\n",
       "      <td>17.77</td>\n",
       "      <td>132.90</td>\n",
       "      <td>1326.0</td>\n",
       "      <td>0.08474</td>\n",
       "      <td>0.07864</td>\n",
       "      <td>0.0869</td>\n",
       "      <td>0.07017</td>\n",
       "      <td>0.1812</td>\n",
       "      <td>0.05667</td>\n",
       "      <td>...</td>\n",
       "      <td>23.41</td>\n",
       "      <td>158.80</td>\n",
       "      <td>1956.0</td>\n",
       "      <td>0.1238</td>\n",
       "      <td>0.1866</td>\n",
       "      <td>0.2416</td>\n",
       "      <td>0.1860</td>\n",
       "      <td>0.2750</td>\n",
       "      <td>0.08902</td>\n",
       "      <td>1</td>\n",
       "    </tr>\n",
       "    <tr>\n",
       "      <td>84300903</td>\n",
       "      <td>19.69</td>\n",
       "      <td>21.25</td>\n",
       "      <td>130.00</td>\n",
       "      <td>1203.0</td>\n",
       "      <td>0.10960</td>\n",
       "      <td>0.15990</td>\n",
       "      <td>0.1974</td>\n",
       "      <td>0.12790</td>\n",
       "      <td>0.2069</td>\n",
       "      <td>0.05999</td>\n",
       "      <td>...</td>\n",
       "      <td>25.53</td>\n",
       "      <td>152.50</td>\n",
       "      <td>1709.0</td>\n",
       "      <td>0.1444</td>\n",
       "      <td>0.4245</td>\n",
       "      <td>0.4504</td>\n",
       "      <td>0.2430</td>\n",
       "      <td>0.3613</td>\n",
       "      <td>0.08758</td>\n",
       "      <td>1</td>\n",
       "    </tr>\n",
       "    <tr>\n",
       "      <td>84348301</td>\n",
       "      <td>11.42</td>\n",
       "      <td>20.38</td>\n",
       "      <td>77.58</td>\n",
       "      <td>386.1</td>\n",
       "      <td>0.14250</td>\n",
       "      <td>0.28390</td>\n",
       "      <td>0.2414</td>\n",
       "      <td>0.10520</td>\n",
       "      <td>0.2597</td>\n",
       "      <td>0.09744</td>\n",
       "      <td>...</td>\n",
       "      <td>26.50</td>\n",
       "      <td>98.87</td>\n",
       "      <td>567.7</td>\n",
       "      <td>0.2098</td>\n",
       "      <td>0.8663</td>\n",
       "      <td>0.6869</td>\n",
       "      <td>0.2575</td>\n",
       "      <td>0.6638</td>\n",
       "      <td>0.17300</td>\n",
       "      <td>1</td>\n",
       "    </tr>\n",
       "    <tr>\n",
       "      <td>84358402</td>\n",
       "      <td>20.29</td>\n",
       "      <td>14.34</td>\n",
       "      <td>135.10</td>\n",
       "      <td>1297.0</td>\n",
       "      <td>0.10030</td>\n",
       "      <td>0.13280</td>\n",
       "      <td>0.1980</td>\n",
       "      <td>0.10430</td>\n",
       "      <td>0.1809</td>\n",
       "      <td>0.05883</td>\n",
       "      <td>...</td>\n",
       "      <td>16.67</td>\n",
       "      <td>152.20</td>\n",
       "      <td>1575.0</td>\n",
       "      <td>0.1374</td>\n",
       "      <td>0.2050</td>\n",
       "      <td>0.4000</td>\n",
       "      <td>0.1625</td>\n",
       "      <td>0.2364</td>\n",
       "      <td>0.07678</td>\n",
       "      <td>1</td>\n",
       "    </tr>\n",
       "  </tbody>\n",
       "</table>\n",
       "<p>5 rows × 31 columns</p>\n",
       "</div>"
      ],
      "text/plain": [
       "          radius_mean  texture_mean  perimeter_mean  area_mean  \\\n",
       "id                                                               \n",
       "842302          17.99         10.38          122.80     1001.0   \n",
       "842517          20.57         17.77          132.90     1326.0   \n",
       "84300903        19.69         21.25          130.00     1203.0   \n",
       "84348301        11.42         20.38           77.58      386.1   \n",
       "84358402        20.29         14.34          135.10     1297.0   \n",
       "\n",
       "          smoothness_mean  compactness_mean  concavity_mean  \\\n",
       "id                                                            \n",
       "842302            0.11840           0.27760          0.3001   \n",
       "842517            0.08474           0.07864          0.0869   \n",
       "84300903          0.10960           0.15990          0.1974   \n",
       "84348301          0.14250           0.28390          0.2414   \n",
       "84358402          0.10030           0.13280          0.1980   \n",
       "\n",
       "          concave points_mean  symmetry_mean  fractal_dimension_mean  ...  \\\n",
       "id                                                                    ...   \n",
       "842302                0.14710         0.2419                 0.07871  ...   \n",
       "842517                0.07017         0.1812                 0.05667  ...   \n",
       "84300903              0.12790         0.2069                 0.05999  ...   \n",
       "84348301              0.10520         0.2597                 0.09744  ...   \n",
       "84358402              0.10430         0.1809                 0.05883  ...   \n",
       "\n",
       "          texture_worst  perimeter_worst  area_worst  smoothness_worst  \\\n",
       "id                                                                       \n",
       "842302            17.33           184.60      2019.0            0.1622   \n",
       "842517            23.41           158.80      1956.0            0.1238   \n",
       "84300903          25.53           152.50      1709.0            0.1444   \n",
       "84348301          26.50            98.87       567.7            0.2098   \n",
       "84358402          16.67           152.20      1575.0            0.1374   \n",
       "\n",
       "          compactness_worst  concavity_worst  concave points_worst  \\\n",
       "id                                                                   \n",
       "842302               0.6656           0.7119                0.2654   \n",
       "842517               0.1866           0.2416                0.1860   \n",
       "84300903             0.4245           0.4504                0.2430   \n",
       "84348301             0.8663           0.6869                0.2575   \n",
       "84358402             0.2050           0.4000                0.1625   \n",
       "\n",
       "          symmetry_worst  fractal_dimension_worst  diagnosis_category  \n",
       "id                                                                     \n",
       "842302            0.4601                  0.11890                   1  \n",
       "842517            0.2750                  0.08902                   1  \n",
       "84300903          0.3613                  0.08758                   1  \n",
       "84348301          0.6638                  0.17300                   1  \n",
       "84358402          0.2364                  0.07678                   1  \n",
       "\n",
       "[5 rows x 31 columns]"
      ]
     },
     "execution_count": 2,
     "metadata": {},
     "output_type": "execute_result"
    }
   ],
   "source": [
    "#Uploading data\n",
    "df_processed= pd.read_csv(\"/Suzi fun files/QB course/QB_DS_FinalProject/data/processed/data_all_features.csv\", index_col=[0])\n",
    "df_processed.head()"
   ]
  },
  {
   "cell_type": "markdown",
   "metadata": {},
   "source": [
    "## Correlation matrix in Data exploration has shown that there is a lot of multilinearity in the data set. \n",
    "## Calculating the variance inflation factor \n",
    "https://stackoverflow.com/questions/42658379/variance-inflation-factor-in-python"
   ]
  },
  {
   "cell_type": "code",
   "execution_count": 3,
   "metadata": {},
   "outputs": [
    {
     "data": {
      "text/plain": [
       "const                      1945.673866\n",
       "radius_mean                3817.259795\n",
       "texture_mean                 11.891280\n",
       "perimeter_mean             3792.697001\n",
       "area_mean                   348.115385\n",
       "smoothness_mean               8.194309\n",
       "compactness_mean             51.445960\n",
       "concavity_mean               71.002747\n",
       "concave points_mean          60.172431\n",
       "symmetry_mean                 4.220806\n",
       "fractal_dimension_mean       15.756978\n",
       "radius_se                    75.737325\n",
       "texture_se                    4.205686\n",
       "perimeter_se                 70.398925\n",
       "area_se                      41.196467\n",
       "smoothness_se                 4.070801\n",
       "compactness_se               15.366350\n",
       "concavity_se                 15.914022\n",
       "concave points_se            11.601253\n",
       "symmetry_se                   5.179151\n",
       "fractal_dimension_se          9.724753\n",
       "radius_worst                815.945630\n",
       "texture_worst                18.606605\n",
       "perimeter_worst             405.150023\n",
       "area_worst                  343.494355\n",
       "smoothness_worst             10.925968\n",
       "compactness_worst            36.984867\n",
       "concavity_worst              32.090394\n",
       "concave points_worst         36.781339\n",
       "symmetry_worst                9.543023\n",
       "fractal_dimension_worst      18.975850\n",
       "diagnosis_category            4.431144\n",
       "Name: VIF, dtype: float64"
      ]
     },
     "execution_count": 3,
     "metadata": {},
     "output_type": "execute_result"
    }
   ],
   "source": [
    "def variance_inflation_factors(exog_df):\n",
    "    '''\n",
    "    Parameters\n",
    "    ----------\n",
    "    exog_df : dataframe, (nobs, k_vars)\n",
    "        design matrix with all explanatory variables, as for example used in\n",
    "        regression.\n",
    "\n",
    "    Returns\n",
    "    -------\n",
    "    vif : Series\n",
    "        variance inflation factors\n",
    "    '''\n",
    "    exog_df = add_constant(exog_df)\n",
    "    vifs = pd.Series(\n",
    "        [1 / (1. - OLS(exog_df[col].values, \n",
    "                       exog_df.loc[:, exog_df.columns != col].values).fit().rsquared) \n",
    "         for col in exog_df],\n",
    "        index=exog_df.columns,\n",
    "        name='VIF'\n",
    "    )\n",
    "    return vifs\n",
    "\n",
    "variance_inflation_factors(df_processed)"
   ]
  },
  {
   "cell_type": "markdown",
   "metadata": {},
   "source": [
    "### radius_mean has very high VIF, so does perimeter_mean\n",
    "### Looking at sorted correlation pairs "
   ]
  },
  {
   "cell_type": "code",
   "execution_count": 4,
   "metadata": {},
   "outputs": [
    {
     "data": {
      "text/plain": [
       "area_se          radius_se          0.951830\n",
       "radius_se        area_se            0.951830\n",
       "perimeter_worst  area_mean          0.959120\n",
       "area_mean        perimeter_worst    0.959120\n",
       "                 area_worst         0.959213\n",
       "area_worst       area_mean          0.959213\n",
       "area_mean        radius_worst       0.962746\n",
       "radius_worst     area_mean          0.962746\n",
       "perimeter_worst  radius_mean        0.965137\n",
       "radius_mean      perimeter_worst    0.965137\n",
       "perimeter_mean   radius_worst       0.969476\n",
       "radius_worst     perimeter_mean     0.969476\n",
       "radius_mean      radius_worst       0.969539\n",
       "radius_worst     radius_mean        0.969539\n",
       "perimeter_worst  perimeter_mean     0.970387\n",
       "perimeter_mean   perimeter_worst    0.970387\n",
       "radius_se        perimeter_se       0.972794\n",
       "perimeter_se     radius_se          0.972794\n",
       "perimeter_worst  area_worst         0.977578\n",
       "area_worst       perimeter_worst    0.977578\n",
       "radius_worst     area_worst         0.984015\n",
       "area_worst       radius_worst       0.984015\n",
       "area_mean        perimeter_mean     0.986507\n",
       "perimeter_mean   area_mean          0.986507\n",
       "radius_mean      area_mean          0.987357\n",
       "area_mean        radius_mean        0.987357\n",
       "perimeter_worst  radius_worst       0.993708\n",
       "radius_worst     perimeter_worst    0.993708\n",
       "radius_mean      perimeter_mean     0.997855\n",
       "perimeter_mean   radius_mean        0.997855\n",
       "dtype: float64"
      ]
     },
     "execution_count": 4,
     "metadata": {},
     "output_type": "execute_result"
    }
   ],
   "source": [
    "c = df_processed.corr().abs()\n",
    "s = c.unstack()\n",
    "sorted_correlation = s.sort_values(kind=\"quicksort\")\n",
    "sorted_correlation[900:-31]"
   ]
  },
  {
   "cell_type": "markdown",
   "metadata": {},
   "source": [
    "### Removing features with high correlation. (Done in several steps while simultaneously looking at the VIF changes and the correlation of the leftover features in the next step)."
   ]
  },
  {
   "cell_type": "code",
   "execution_count": 5,
   "metadata": {},
   "outputs": [
    {
     "data": {
      "text/plain": [
       "const                   130.991324\n",
       "smoothness_mean           1.845235\n",
       "symmetry_mean             2.962952\n",
       "texture_se                2.835756\n",
       "smoothness_se             1.935435\n",
       "concavity_se              2.411655\n",
       "symmetry_se               2.655117\n",
       "fractal_dimension_se      2.588768\n",
       "radius_worst              2.986870\n",
       "texture_worst             2.519286\n",
       "symmetry_worst            4.119275\n",
       "diagnosis_category        3.442057\n",
       "Name: VIF, dtype: float64"
      ]
     },
     "execution_count": 5,
     "metadata": {},
     "output_type": "execute_result"
    }
   ],
   "source": [
    "df_removing_features = df_processed.drop(['radius_mean','area_mean','perimeter_worst','area_worst',\n",
    "                                          'perimeter_se','concavity_mean','compactness_mean','perimeter_mean',\n",
    "                                          'area_se','texture_mean','concave points_mean','concavity_worst','compactness_worst',\n",
    "                                         'concave points_worst','fractal_dimension_mean',\n",
    "                                          'smoothness_worst','fractal_dimension_worst','radius_se','compactness_se','concave points_se'],axis = 1)\n",
    "variance_inflation_factors(df_removing_features)"
   ]
  },
  {
   "cell_type": "code",
   "execution_count": 6,
   "metadata": {
    "scrolled": true
   },
   "outputs": [
    {
     "data": {
      "text/plain": [
       "texture_worst         diagnosis_category    0.456903\n",
       "diagnosis_category    texture_worst         0.456903\n",
       "smoothness_mean       symmetry_mean         0.557775\n",
       "symmetry_mean         smoothness_mean       0.557775\n",
       "symmetry_worst        symmetry_mean         0.699826\n",
       "symmetry_mean         symmetry_worst        0.699826\n",
       "fractal_dimension_se  concavity_se          0.727372\n",
       "dtype: float64"
      ]
     },
     "execution_count": 6,
     "metadata": {},
     "output_type": "execute_result"
    }
   ],
   "source": [
    "c = df_removing_features.corr().abs()\n",
    "s = c.unstack()\n",
    "sorted_correlation = s.sort_values(kind=\"quicksort\")\n",
    "sorted_correlation[100:-14]"
   ]
  },
  {
   "cell_type": "code",
   "execution_count": 7,
   "metadata": {},
   "outputs": [
    {
     "data": {
      "text/html": [
       "<div>\n",
       "<style scoped>\n",
       "    .dataframe tbody tr th:only-of-type {\n",
       "        vertical-align: middle;\n",
       "    }\n",
       "\n",
       "    .dataframe tbody tr th {\n",
       "        vertical-align: top;\n",
       "    }\n",
       "\n",
       "    .dataframe thead th {\n",
       "        text-align: right;\n",
       "    }\n",
       "</style>\n",
       "<table border=\"1\" class=\"dataframe\">\n",
       "  <thead>\n",
       "    <tr style=\"text-align: right;\">\n",
       "      <th></th>\n",
       "      <th>smoothness_mean</th>\n",
       "      <th>symmetry_mean</th>\n",
       "      <th>texture_se</th>\n",
       "      <th>smoothness_se</th>\n",
       "      <th>concavity_se</th>\n",
       "      <th>symmetry_se</th>\n",
       "      <th>fractal_dimension_se</th>\n",
       "      <th>radius_worst</th>\n",
       "      <th>texture_worst</th>\n",
       "      <th>symmetry_worst</th>\n",
       "      <th>diagnosis_category</th>\n",
       "    </tr>\n",
       "    <tr>\n",
       "      <th>id</th>\n",
       "      <th></th>\n",
       "      <th></th>\n",
       "      <th></th>\n",
       "      <th></th>\n",
       "      <th></th>\n",
       "      <th></th>\n",
       "      <th></th>\n",
       "      <th></th>\n",
       "      <th></th>\n",
       "      <th></th>\n",
       "      <th></th>\n",
       "    </tr>\n",
       "  </thead>\n",
       "  <tbody>\n",
       "    <tr>\n",
       "      <td>842302</td>\n",
       "      <td>0.11840</td>\n",
       "      <td>0.2419</td>\n",
       "      <td>0.9053</td>\n",
       "      <td>0.006399</td>\n",
       "      <td>0.05373</td>\n",
       "      <td>0.03003</td>\n",
       "      <td>0.006193</td>\n",
       "      <td>25.38</td>\n",
       "      <td>17.33</td>\n",
       "      <td>0.4601</td>\n",
       "      <td>1</td>\n",
       "    </tr>\n",
       "    <tr>\n",
       "      <td>842517</td>\n",
       "      <td>0.08474</td>\n",
       "      <td>0.1812</td>\n",
       "      <td>0.7339</td>\n",
       "      <td>0.005225</td>\n",
       "      <td>0.01860</td>\n",
       "      <td>0.01389</td>\n",
       "      <td>0.003532</td>\n",
       "      <td>24.99</td>\n",
       "      <td>23.41</td>\n",
       "      <td>0.2750</td>\n",
       "      <td>1</td>\n",
       "    </tr>\n",
       "    <tr>\n",
       "      <td>84300903</td>\n",
       "      <td>0.10960</td>\n",
       "      <td>0.2069</td>\n",
       "      <td>0.7869</td>\n",
       "      <td>0.006150</td>\n",
       "      <td>0.03832</td>\n",
       "      <td>0.02250</td>\n",
       "      <td>0.004571</td>\n",
       "      <td>23.57</td>\n",
       "      <td>25.53</td>\n",
       "      <td>0.3613</td>\n",
       "      <td>1</td>\n",
       "    </tr>\n",
       "    <tr>\n",
       "      <td>84348301</td>\n",
       "      <td>0.14250</td>\n",
       "      <td>0.2597</td>\n",
       "      <td>1.1560</td>\n",
       "      <td>0.009110</td>\n",
       "      <td>0.05661</td>\n",
       "      <td>0.05963</td>\n",
       "      <td>0.009208</td>\n",
       "      <td>14.91</td>\n",
       "      <td>26.50</td>\n",
       "      <td>0.6638</td>\n",
       "      <td>1</td>\n",
       "    </tr>\n",
       "    <tr>\n",
       "      <td>84358402</td>\n",
       "      <td>0.10030</td>\n",
       "      <td>0.1809</td>\n",
       "      <td>0.7813</td>\n",
       "      <td>0.011490</td>\n",
       "      <td>0.05688</td>\n",
       "      <td>0.01756</td>\n",
       "      <td>0.005115</td>\n",
       "      <td>22.54</td>\n",
       "      <td>16.67</td>\n",
       "      <td>0.2364</td>\n",
       "      <td>1</td>\n",
       "    </tr>\n",
       "  </tbody>\n",
       "</table>\n",
       "</div>"
      ],
      "text/plain": [
       "          smoothness_mean  symmetry_mean  texture_se  smoothness_se  \\\n",
       "id                                                                    \n",
       "842302            0.11840         0.2419      0.9053       0.006399   \n",
       "842517            0.08474         0.1812      0.7339       0.005225   \n",
       "84300903          0.10960         0.2069      0.7869       0.006150   \n",
       "84348301          0.14250         0.2597      1.1560       0.009110   \n",
       "84358402          0.10030         0.1809      0.7813       0.011490   \n",
       "\n",
       "          concavity_se  symmetry_se  fractal_dimension_se  radius_worst  \\\n",
       "id                                                                        \n",
       "842302         0.05373      0.03003              0.006193         25.38   \n",
       "842517         0.01860      0.01389              0.003532         24.99   \n",
       "84300903       0.03832      0.02250              0.004571         23.57   \n",
       "84348301       0.05661      0.05963              0.009208         14.91   \n",
       "84358402       0.05688      0.01756              0.005115         22.54   \n",
       "\n",
       "          texture_worst  symmetry_worst  diagnosis_category  \n",
       "id                                                           \n",
       "842302            17.33          0.4601                   1  \n",
       "842517            23.41          0.2750                   1  \n",
       "84300903          25.53          0.3613                   1  \n",
       "84348301          26.50          0.6638                   1  \n",
       "84358402          16.67          0.2364                   1  "
      ]
     },
     "execution_count": 7,
     "metadata": {},
     "output_type": "execute_result"
    }
   ],
   "source": [
    "df_removing_features.head()"
   ]
  },
  {
   "cell_type": "code",
   "execution_count": 8,
   "metadata": {},
   "outputs": [],
   "source": [
    "df_removing_features.to_csv(\"/Suzi fun files/QB course/QB_DS_FinalProject/data/processed/data_cleaned_features.csv\")"
   ]
  },
  {
   "cell_type": "markdown",
   "metadata": {},
   "source": [
    "## Run a simple decision tree on my new data set\n",
    "### Load my train and test data first"
   ]
  },
  {
   "cell_type": "code",
   "execution_count": 9,
   "metadata": {},
   "outputs": [],
   "source": [
    "X_test_df= pd.read_csv(\"/Suzi fun files/QB course/QB_DS_FinalProject/data/interim/X_test.csv\", index_col=[0])\n",
    "X_test_df.columns=df_processed.columns[:-1]\n",
    "X_test_df.head()\n",
    "X_test = X_test_df.drop(['radius_mean','area_mean','perimeter_worst','area_worst',\n",
    "                                          'perimeter_se','concavity_mean','compactness_mean','perimeter_mean',\n",
    "                                          'area_se','texture_mean','concave points_mean','concavity_worst','compactness_worst',\n",
    "                                         'concave points_worst','fractal_dimension_mean',\n",
    "                                          'smoothness_worst','fractal_dimension_worst','radius_se','compactness_se','concave points_se'],axis = 1).values"
   ]
  },
  {
   "cell_type": "code",
   "execution_count": 10,
   "metadata": {},
   "outputs": [],
   "source": [
    "X_train_df= pd.read_csv(\"/Suzi fun files/QB course/QB_DS_FinalProject/data/interim/X_train.csv\", index_col=[0])\n",
    "X_train_df.columns=df_processed.columns[:-1]\n",
    "X_train = X_train_df.drop(['radius_mean','area_mean','perimeter_worst','area_worst',\n",
    "                                          'perimeter_se','concavity_mean','compactness_mean','perimeter_mean',\n",
    "                                          'area_se','texture_mean','concave points_mean','concavity_worst','compactness_worst',\n",
    "                                         'concave points_worst','fractal_dimension_mean',\n",
    "                                          'smoothness_worst','fractal_dimension_worst','radius_se','compactness_se','concave points_se'],axis = 1).values"
   ]
  },
  {
   "cell_type": "code",
   "execution_count": 11,
   "metadata": {},
   "outputs": [],
   "source": [
    "y_train_df = pd.read_csv('/Suzi fun files/QB course/QB_DS_FinalProject/data/interim/y_train.csv', header=None, index_col=[0]);\n",
    "y_train = y_train_df.iloc[:,0]\n",
    "y_test_df = pd.read_csv('/Suzi fun files/QB course/QB_DS_FinalProject/data/interim/y_test.csv', header=None, index_col=[0]);\n",
    "y_test = y_test_df.iloc[:,0]"
   ]
  },
  {
   "cell_type": "code",
   "execution_count": 12,
   "metadata": {},
   "outputs": [],
   "source": [
    "# Tune Decision Tree\n",
    "num_leaves = [5, 10, 15, 20, 30, 40, 50]\n",
    "depth = np.arange(3, 21)\n",
    "num_samples_split = np.arange(10,20)\n",
    "params_DT = {\"max_depth\": depth, \"min_samples_leaf\": num_leaves, \"min_samples_split\":num_samples_split}\n",
    "random_state = 42\n",
    "classifier_DT = DecisionTreeClassifier(random_state=random_state)\n",
    "grid_DT = GridSearchCV(classifier_DT, params_DT,scoring='roc_auc');\n",
    "grid_DT.fit(X_train,y_train)\n",
    "\n",
    "prediction_DT = grid_DT.predict(X_test)\n",
    "probability_DT = grid_DT.predict_proba(X_test)"
   ]
  },
  {
   "cell_type": "code",
   "execution_count": 13,
   "metadata": {},
   "outputs": [
    {
     "name": "stdout",
     "output_type": "stream",
     "text": [
      "Accuracy: 0.9210526315789473\n"
     ]
    }
   ],
   "source": [
    "print(\"Accuracy:\",metrics.accuracy_score(y_test, prediction_DT))"
   ]
  },
  {
   "cell_type": "code",
   "execution_count": 14,
   "metadata": {},
   "outputs": [
    {
     "data": {
      "text/plain": [
       "[Text(686.7692307692307, 498.3, 'concave points_mean <= 16.795\\nsamples = 100.0%\\nvalue = [0.629, 0.371]'),\n",
       " Text(515.0769230769231, 407.70000000000005, 'fractal_dimension_mean <= 0.357\\nsamples = 66.4%\\nvalue = [0.911, 0.089]'),\n",
       " Text(429.23076923076917, 317.1, 'concave points_mean <= 15.175\\nsamples = 62.6%\\nvalue = [0.951, 0.049]'),\n",
       " Text(171.69230769230768, 226.5, 'fractal_dimension_mean <= 0.198\\nsamples = 51.9%\\nvalue = [0.983, 0.017]'),\n",
       " Text(85.84615384615384, 135.89999999999998, 'samples = 2.4%\\nvalue = [0.818, 0.182]'),\n",
       " Text(257.53846153846155, 135.89999999999998, 'symmetry_mean <= 33.35\\nsamples = 49.5%\\nvalue = [0.991, 0.009]'),\n",
       " Text(171.69230769230768, 45.299999999999955, 'samples = 45.9%\\nvalue = [1.0, 0.0]'),\n",
       " Text(343.38461538461536, 45.299999999999955, 'samples = 3.5%\\nvalue = [0.875, 0.125]'),\n",
       " Text(686.7692307692307, 226.5, 'area_mean <= 0.007\\nsamples = 10.8%\\nvalue = [0.796, 0.204]'),\n",
       " Text(600.9230769230769, 135.89999999999998, 'symmetry_mean <= 26.84\\nsamples = 7.5%\\nvalue = [0.941, 0.059]'),\n",
       " Text(515.0769230769231, 45.299999999999955, 'samples = 5.3%\\nvalue = [1.0, 0.0]'),\n",
       " Text(686.7692307692307, 45.299999999999955, 'samples = 2.2%\\nvalue = [0.8, 0.2]'),\n",
       " Text(772.6153846153845, 135.89999999999998, 'samples = 3.3%\\nvalue = [0.467, 0.533]'),\n",
       " Text(600.9230769230769, 317.1, 'samples = 3.7%\\nvalue = [0.235, 0.765]'),\n",
       " Text(858.4615384615383, 407.70000000000005, 'symmetry_mean <= 19.91\\nsamples = 33.6%\\nvalue = [0.072, 0.928]'),\n",
       " Text(772.6153846153845, 317.1, 'samples = 3.3%\\nvalue = [0.6, 0.4]'),\n",
       " Text(944.3076923076923, 317.1, 'fractal_dimension_mean <= 0.254\\nsamples = 30.3%\\nvalue = [0.014, 0.986]'),\n",
       " Text(858.4615384615383, 226.5, 'samples = 3.7%\\nvalue = [0.118, 0.882]'),\n",
       " Text(1030.1538461538462, 226.5, 'samples = 26.6%\\nvalue = [0.0, 1.0]')]"
      ]
     },
     "execution_count": 14,
     "metadata": {},
     "output_type": "execute_result"
    },
    {
     "data": {
      "image/png": "[encoded data removed]",
      "text/plain": [
       "<Figure size 1440x720 with 1 Axes>"
      ]
     },
     "metadata": {
      "needs_background": "light"
     },
     "output_type": "display_data"
    }
   ],
   "source": [
    "model_DT= grid_DT.best_estimator_\n",
    "plt.figure(figsize=(20,10)) \n",
    "tree.plot_tree(model_DT, feature_names=df_processed.columns[0:-1], impurity=False, proportion=True)"
   ]
  },
  {
   "cell_type": "code",
   "execution_count": 15,
   "metadata": {},
   "outputs": [
    {
     "name": "stdout",
     "output_type": "stream",
     "text": [
      "[[67  4]\n",
      " [ 5 38]]\n"
     ]
    }
   ],
   "source": [
    "print(metrics.confusion_matrix(y_test, prediction_DT))"
   ]
  },
  {
   "cell_type": "code",
   "execution_count": 16,
   "metadata": {},
   "outputs": [
    {
     "name": "stdout",
     "output_type": "stream",
     "text": [
      "0.9047619047619048\n"
     ]
    }
   ],
   "source": [
    "tree_tn, tree_fn, tree_fp, tree_tp = metrics.confusion_matrix(y_test, prediction_DT).ravel()\n",
    "recall_DT= tree_tp/(tree_tp + tree_fn)\n",
    "print(recall_DT)"
   ]
  },
  {
   "cell_type": "markdown",
   "metadata": {},
   "source": [
    "## Accuracy decreased from 95% to 92%, recall decreased from 93% to 90%\n",
    "### Idea for more work: look at the change of recall and accuracy with the step-wise removal of features "
   ]
  },
  {
   "cell_type": "code",
   "execution_count": 17,
   "metadata": {},
   "outputs": [
    {
     "data": {
      "image/png": "[encoded data removed]",
      "text/plain": [
       "<Figure size 864x864 with 1 Axes>"
      ]
     },
     "metadata": {
      "needs_background": "light"
     },
     "output_type": "display_data"
    }
   ],
   "source": [
    "false_pos_rate_DT,true_pos_rate_DT, thresholds_DT = roc_curve(y_test, probability_DT[:, 1])\n",
    "\n",
    "# Plot the ROC curve\n",
    "fig = plt.figure(figsize=(12,12))\n",
    "plt.plot([0, 1], [0, 1], 'k--')\n",
    "plt.plot(false_pos_rate_DT, true_pos_rate_DT, label='DT')\n",
    "plt.xlabel('False positive rate')\n",
    "plt.ylabel('True positive rate')\n",
    "plt.title('ROC')\n",
    "plt.legend(loc='best')\n",
    "plt.show()"
   ]
  }
 ],
 "metadata": {
  "kernelspec": {
   "display_name": "Python 3",
   "language": "python",
   "name": "python3"
  },
  "language_info": {
   "codemirror_mode": {
    "name": "ipython",
    "version": 3
   },
   "file_extension": ".py",
   "mimetype": "text/x-python",
   "name": "python",
   "nbconvert_exporter": "python",
   "pygments_lexer": "ipython3",
   "version": "3.7.4"
  }
 },
 "nbformat": 4,
 "nbformat_minor": 2
}
