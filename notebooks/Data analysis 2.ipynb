{
 "cells": [
  {
   "cell_type": "markdown",
   "metadata": {},
   "source": [
    "# Data analysis 2\n",
    "\n",
    "## Adding some feature engineering"
   ]
  },
  {
   "cell_type": "code",
   "execution_count": 1,
   "metadata": {},
   "outputs": [],
   "source": [
    "#Setting up environment\n",
    "import pandas as pd\n",
    "import os\n",
    "import numpy as np\n",
    "from IPython.display import Math\n",
    "\n",
    "from statsmodels.stats.outliers_influence import variance_inflation_factor    \n",
    "import matplotlib.pylab as plt\n",
    "import seaborn as sns\n",
    "from sklearn import metrics, svm,tree,preprocessing\n",
    "from pprint import pprint\n",
    "from sklearn.metrics import (auc, confusion_matrix, roc_curve, accuracy_score, precision_score)\n",
    "from sklearn.model_selection import train_test_split, GridSearchCV,RandomizedSearchCV\n",
    "from sklearn.tree import DecisionTreeClassifier\n",
    "from sklearn.linear_model import LogisticRegression\n",
    "\n",
    "\n",
    "import warnings\n",
    "warnings.filterwarnings('ignore')\n",
    "\n",
    "%matplotlib inline"
   ]
  },
  {
   "cell_type": "code",
   "execution_count": 2,
   "metadata": {},
   "outputs": [
    {
     "data": {
      "text/html": [
       "<div>\n",
       "<style scoped>\n",
       "    .dataframe tbody tr th:only-of-type {\n",
       "        vertical-align: middle;\n",
       "    }\n",
       "\n",
       "    .dataframe tbody tr th {\n",
       "        vertical-align: top;\n",
       "    }\n",
       "\n",
       "    .dataframe thead th {\n",
       "        text-align: right;\n",
       "    }\n",
       "</style>\n",
       "<table border=\"1\" class=\"dataframe\">\n",
       "  <thead>\n",
       "    <tr style=\"text-align: right;\">\n",
       "      <th></th>\n",
       "      <th>radius_mean</th>\n",
       "      <th>texture_mean</th>\n",
       "      <th>perimeter_mean</th>\n",
       "      <th>area_mean</th>\n",
       "      <th>smoothness_mean</th>\n",
       "      <th>compactness_mean</th>\n",
       "      <th>concavity_mean</th>\n",
       "      <th>concave points_mean</th>\n",
       "      <th>symmetry_mean</th>\n",
       "      <th>fractal_dimension_mean</th>\n",
       "      <th>...</th>\n",
       "      <th>texture_worst</th>\n",
       "      <th>perimeter_worst</th>\n",
       "      <th>area_worst</th>\n",
       "      <th>smoothness_worst</th>\n",
       "      <th>compactness_worst</th>\n",
       "      <th>concavity_worst</th>\n",
       "      <th>concave points_worst</th>\n",
       "      <th>symmetry_worst</th>\n",
       "      <th>fractal_dimension_worst</th>\n",
       "      <th>diagnosis_category</th>\n",
       "    </tr>\n",
       "    <tr>\n",
       "      <th>id</th>\n",
       "      <th></th>\n",
       "      <th></th>\n",
       "      <th></th>\n",
       "      <th></th>\n",
       "      <th></th>\n",
       "      <th></th>\n",
       "      <th></th>\n",
       "      <th></th>\n",
       "      <th></th>\n",
       "      <th></th>\n",
       "      <th></th>\n",
       "      <th></th>\n",
       "      <th></th>\n",
       "      <th></th>\n",
       "      <th></th>\n",
       "      <th></th>\n",
       "      <th></th>\n",
       "      <th></th>\n",
       "      <th></th>\n",
       "      <th></th>\n",
       "      <th></th>\n",
       "    </tr>\n",
       "  </thead>\n",
       "  <tbody>\n",
       "    <tr>\n",
       "      <td>842302</td>\n",
       "      <td>17.99</td>\n",
       "      <td>10.38</td>\n",
       "      <td>122.80</td>\n",
       "      <td>1001.0</td>\n",
       "      <td>0.11840</td>\n",
       "      <td>0.27760</td>\n",
       "      <td>0.3001</td>\n",
       "      <td>0.14710</td>\n",
       "      <td>0.2419</td>\n",
       "      <td>0.07871</td>\n",
       "      <td>...</td>\n",
       "      <td>17.33</td>\n",
       "      <td>184.60</td>\n",
       "      <td>2019.0</td>\n",
       "      <td>0.1622</td>\n",
       "      <td>0.6656</td>\n",
       "      <td>0.7119</td>\n",
       "      <td>0.2654</td>\n",
       "      <td>0.4601</td>\n",
       "      <td>0.11890</td>\n",
       "      <td>1</td>\n",
       "    </tr>\n",
       "    <tr>\n",
       "      <td>842517</td>\n",
       "      <td>20.57</td>\n",
       "      <td>17.77</td>\n",
       "      <td>132.90</td>\n",
       "      <td>1326.0</td>\n",
       "      <td>0.08474</td>\n",
       "      <td>0.07864</td>\n",
       "      <td>0.0869</td>\n",
       "      <td>0.07017</td>\n",
       "      <td>0.1812</td>\n",
       "      <td>0.05667</td>\n",
       "      <td>...</td>\n",
       "      <td>23.41</td>\n",
       "      <td>158.80</td>\n",
       "      <td>1956.0</td>\n",
       "      <td>0.1238</td>\n",
       "      <td>0.1866</td>\n",
       "      <td>0.2416</td>\n",
       "      <td>0.1860</td>\n",
       "      <td>0.2750</td>\n",
       "      <td>0.08902</td>\n",
       "      <td>1</td>\n",
       "    </tr>\n",
       "    <tr>\n",
       "      <td>84300903</td>\n",
       "      <td>19.69</td>\n",
       "      <td>21.25</td>\n",
       "      <td>130.00</td>\n",
       "      <td>1203.0</td>\n",
       "      <td>0.10960</td>\n",
       "      <td>0.15990</td>\n",
       "      <td>0.1974</td>\n",
       "      <td>0.12790</td>\n",
       "      <td>0.2069</td>\n",
       "      <td>0.05999</td>\n",
       "      <td>...</td>\n",
       "      <td>25.53</td>\n",
       "      <td>152.50</td>\n",
       "      <td>1709.0</td>\n",
       "      <td>0.1444</td>\n",
       "      <td>0.4245</td>\n",
       "      <td>0.4504</td>\n",
       "      <td>0.2430</td>\n",
       "      <td>0.3613</td>\n",
       "      <td>0.08758</td>\n",
       "      <td>1</td>\n",
       "    </tr>\n",
       "    <tr>\n",
       "      <td>84348301</td>\n",
       "      <td>11.42</td>\n",
       "      <td>20.38</td>\n",
       "      <td>77.58</td>\n",
       "      <td>386.1</td>\n",
       "      <td>0.14250</td>\n",
       "      <td>0.28390</td>\n",
       "      <td>0.2414</td>\n",
       "      <td>0.10520</td>\n",
       "      <td>0.2597</td>\n",
       "      <td>0.09744</td>\n",
       "      <td>...</td>\n",
       "      <td>26.50</td>\n",
       "      <td>98.87</td>\n",
       "      <td>567.7</td>\n",
       "      <td>0.2098</td>\n",
       "      <td>0.8663</td>\n",
       "      <td>0.6869</td>\n",
       "      <td>0.2575</td>\n",
       "      <td>0.6638</td>\n",
       "      <td>0.17300</td>\n",
       "      <td>1</td>\n",
       "    </tr>\n",
       "    <tr>\n",
       "      <td>84358402</td>\n",
       "      <td>20.29</td>\n",
       "      <td>14.34</td>\n",
       "      <td>135.10</td>\n",
       "      <td>1297.0</td>\n",
       "      <td>0.10030</td>\n",
       "      <td>0.13280</td>\n",
       "      <td>0.1980</td>\n",
       "      <td>0.10430</td>\n",
       "      <td>0.1809</td>\n",
       "      <td>0.05883</td>\n",
       "      <td>...</td>\n",
       "      <td>16.67</td>\n",
       "      <td>152.20</td>\n",
       "      <td>1575.0</td>\n",
       "      <td>0.1374</td>\n",
       "      <td>0.2050</td>\n",
       "      <td>0.4000</td>\n",
       "      <td>0.1625</td>\n",
       "      <td>0.2364</td>\n",
       "      <td>0.07678</td>\n",
       "      <td>1</td>\n",
       "    </tr>\n",
       "  </tbody>\n",
       "</table>\n",
       "<p>5 rows × 31 columns</p>\n",
       "</div>"
      ],
      "text/plain": [
       "          radius_mean  texture_mean  perimeter_mean  area_mean  \\\n",
       "id                                                               \n",
       "842302          17.99         10.38          122.80     1001.0   \n",
       "842517          20.57         17.77          132.90     1326.0   \n",
       "84300903        19.69         21.25          130.00     1203.0   \n",
       "84348301        11.42         20.38           77.58      386.1   \n",
       "84358402        20.29         14.34          135.10     1297.0   \n",
       "\n",
       "          smoothness_mean  compactness_mean  concavity_mean  \\\n",
       "id                                                            \n",
       "842302            0.11840           0.27760          0.3001   \n",
       "842517            0.08474           0.07864          0.0869   \n",
       "84300903          0.10960           0.15990          0.1974   \n",
       "84348301          0.14250           0.28390          0.2414   \n",
       "84358402          0.10030           0.13280          0.1980   \n",
       "\n",
       "          concave points_mean  symmetry_mean  fractal_dimension_mean  ...  \\\n",
       "id                                                                    ...   \n",
       "842302                0.14710         0.2419                 0.07871  ...   \n",
       "842517                0.07017         0.1812                 0.05667  ...   \n",
       "84300903              0.12790         0.2069                 0.05999  ...   \n",
       "84348301              0.10520         0.2597                 0.09744  ...   \n",
       "84358402              0.10430         0.1809                 0.05883  ...   \n",
       "\n",
       "          texture_worst  perimeter_worst  area_worst  smoothness_worst  \\\n",
       "id                                                                       \n",
       "842302            17.33           184.60      2019.0            0.1622   \n",
       "842517            23.41           158.80      1956.0            0.1238   \n",
       "84300903          25.53           152.50      1709.0            0.1444   \n",
       "84348301          26.50            98.87       567.7            0.2098   \n",
       "84358402          16.67           152.20      1575.0            0.1374   \n",
       "\n",
       "          compactness_worst  concavity_worst  concave points_worst  \\\n",
       "id                                                                   \n",
       "842302               0.6656           0.7119                0.2654   \n",
       "842517               0.1866           0.2416                0.1860   \n",
       "84300903             0.4245           0.4504                0.2430   \n",
       "84348301             0.8663           0.6869                0.2575   \n",
       "84358402             0.2050           0.4000                0.1625   \n",
       "\n",
       "          symmetry_worst  fractal_dimension_worst  diagnosis_category  \n",
       "id                                                                     \n",
       "842302            0.4601                  0.11890                   1  \n",
       "842517            0.2750                  0.08902                   1  \n",
       "84300903          0.3613                  0.08758                   1  \n",
       "84348301          0.6638                  0.17300                   1  \n",
       "84358402          0.2364                  0.07678                   1  \n",
       "\n",
       "[5 rows x 31 columns]"
      ]
     },
     "execution_count": 2,
     "metadata": {},
     "output_type": "execute_result"
    }
   ],
   "source": [
    "#Uploading data\n",
    "df_processed= pd.read_csv(\"/Suzi fun files/QB course/QB_DS_FinalProject/data/processed/data_all_features.csv\", index_col=[0])\n",
    "df_processed.head()"
   ]
  },
  {
   "cell_type": "markdown",
   "metadata": {},
   "source": [
    "## Correlation matrix in Data exploration has shown that there is a lot of multilinearity in the data set. \n",
    "## Calculating the variance inflation factor \n",
    "https://stackoverflow.com/questions/42658379/variance-inflation-factor-in-python\n",
    "https://stats.stackexchange.com/questions/155028/how-to-systematically-remove-collinear-variables-in-python/"
   ]
  },
  {
   "cell_type": "code",
   "execution_count": 7,
   "metadata": {},
   "outputs": [
    {
     "name": "stdout",
     "output_type": "stream",
     "text": [
      "dropping 'radius_mean' at index: 0\n",
      "dropping 'radius_worst' at index: 19\n",
      "dropping 'perimeter_mean' at index: 1\n",
      "dropping 'perimeter_worst' at index: 19\n",
      "dropping 'fractal_dimension_mean' at index: 7\n",
      "dropping 'smoothness_worst' at index: 19\n",
      "dropping 'texture_worst' at index: 17\n",
      "dropping 'fractal_dimension_worst' at index: 22\n",
      "dropping 'symmetry_worst' at index: 21\n",
      "dropping 'concavity_mean' at index: 4\n",
      "dropping 'radius_se' at index: 6\n",
      "dropping 'concave points_worst' at index: 18\n",
      "dropping 'smoothness_mean' at index: 2\n",
      "dropping 'compactness_mean' at index: 2\n",
      "dropping 'area_mean' at index: 1\n",
      "dropping 'compactness_worst' at index: 13\n",
      "dropping 'perimeter_se' at index: 4\n",
      "dropping 'symmetry_mean' at index: 2\n",
      "dropping 'texture_mean' at index: 0\n",
      "dropping 'concave points_se' at index: 6\n",
      "dropping 'compactness_se' at index: 4\n",
      "dropping 'concave points_mean' at index: 0\n",
      "dropping 'area_worst' at index: 6\n",
      "dropping 'symmetry_se' at index: 4\n",
      "dropping 'concavity_worst' at index: 5\n",
      "dropping 'fractal_dimension_se' at index: 4\n",
      "dropping 'smoothness_se' at index: 2\n",
      "Remaining variables:\n",
      "Index(['texture_se', 'area_se', 'concavity_se', 'diagnosis_category'], dtype='object')\n"
     ]
    }
   ],
   "source": [
    "def calculate_vif_(X, thresh=5.0):\n",
    "    variables = list(range(X.shape[1]))\n",
    "    dropped = True\n",
    "    while dropped:\n",
    "        dropped = False\n",
    "        vif = [variance_inflation_factor(X.iloc[:, variables].values, ix)\n",
    "               for ix in range(X.iloc[:, variables].shape[1])]\n",
    "\n",
    "        maxloc = vif.index(max(vif))\n",
    "        if max(vif) > thresh:\n",
    "            print('dropping \\'' + X.iloc[:, variables].columns[maxloc] +\n",
    "                  '\\' at index: ' + str(maxloc))\n",
    "            del variables[maxloc]\n",
    "            dropped = True\n",
    "\n",
    "    print('Remaining variables:')\n",
    "    print(X.columns[variables])\n",
    "    return X.iloc[:, variables]\n",
    "\n",
    "df_removing_features=calculate_vif_(df_processed)"
   ]
  },
  {
   "cell_type": "code",
   "execution_count": 8,
   "metadata": {},
   "outputs": [],
   "source": [
    "df_removing_features.to_csv(\"/Suzi fun files/QB course/QB_DS_FinalProject/data/processed/data_cleaned_features.csv\")"
   ]
  },
  {
   "cell_type": "code",
   "execution_count": 15,
   "metadata": {},
   "outputs": [
    {
     "data": {
      "text/html": [
       "<style  type=\"text/css\" >\n",
       "    #T_8870d0f4_8e10_11ea_918e_9e305bbd1ec7row0_col0 {\n",
       "            background-color:  #b40426;\n",
       "            color:  #f1f1f1;\n",
       "        }    #T_8870d0f4_8e10_11ea_918e_9e305bbd1ec7row0_col1 {\n",
       "            background-color:  #3b4cc0;\n",
       "            color:  #f1f1f1;\n",
       "        }    #T_8870d0f4_8e10_11ea_918e_9e305bbd1ec7row0_col2 {\n",
       "            background-color:  #3b4cc0;\n",
       "            color:  #f1f1f1;\n",
       "        }    #T_8870d0f4_8e10_11ea_918e_9e305bbd1ec7row0_col3 {\n",
       "            background-color:  #3b4cc0;\n",
       "            color:  #f1f1f1;\n",
       "        }    #T_8870d0f4_8e10_11ea_918e_9e305bbd1ec7row1_col0 {\n",
       "            background-color:  #5f7fe8;\n",
       "            color:  #000000;\n",
       "        }    #T_8870d0f4_8e10_11ea_918e_9e305bbd1ec7row1_col1 {\n",
       "            background-color:  #b40426;\n",
       "            color:  #f1f1f1;\n",
       "        }    #T_8870d0f4_8e10_11ea_918e_9e305bbd1ec7row1_col2 {\n",
       "            background-color:  #5875e1;\n",
       "            color:  #000000;\n",
       "        }    #T_8870d0f4_8e10_11ea_918e_9e305bbd1ec7row1_col3 {\n",
       "            background-color:  #ead5c9;\n",
       "            color:  #000000;\n",
       "        }    #T_8870d0f4_8e10_11ea_918e_9e305bbd1ec7row2_col0 {\n",
       "            background-color:  #7b9ff9;\n",
       "            color:  #000000;\n",
       "        }    #T_8870d0f4_8e10_11ea_918e_9e305bbd1ec7row2_col1 {\n",
       "            background-color:  #7396f5;\n",
       "            color:  #000000;\n",
       "        }    #T_8870d0f4_8e10_11ea_918e_9e305bbd1ec7row2_col2 {\n",
       "            background-color:  #b40426;\n",
       "            color:  #f1f1f1;\n",
       "        }    #T_8870d0f4_8e10_11ea_918e_9e305bbd1ec7row2_col3 {\n",
       "            background-color:  #90b2fe;\n",
       "            color:  #000000;\n",
       "        }    #T_8870d0f4_8e10_11ea_918e_9e305bbd1ec7row3_col0 {\n",
       "            background-color:  #3b4cc0;\n",
       "            color:  #f1f1f1;\n",
       "        }    #T_8870d0f4_8e10_11ea_918e_9e305bbd1ec7row3_col1 {\n",
       "            background-color:  #dadce0;\n",
       "            color:  #000000;\n",
       "        }    #T_8870d0f4_8e10_11ea_918e_9e305bbd1ec7row3_col2 {\n",
       "            background-color:  #506bda;\n",
       "            color:  #000000;\n",
       "        }    #T_8870d0f4_8e10_11ea_918e_9e305bbd1ec7row3_col3 {\n",
       "            background-color:  #b40426;\n",
       "            color:  #f1f1f1;\n",
       "        }</style><table id=\"T_8870d0f4_8e10_11ea_918e_9e305bbd1ec7\" ><thead>    <tr>        <th class=\"blank level0\" ></th>        <th class=\"col_heading level0 col0\" >texture_se</th>        <th class=\"col_heading level0 col1\" >area_se</th>        <th class=\"col_heading level0 col2\" >concavity_se</th>        <th class=\"col_heading level0 col3\" >diagnosis_category</th>    </tr></thead><tbody>\n",
       "                <tr>\n",
       "                        <th id=\"T_8870d0f4_8e10_11ea_918e_9e305bbd1ec7level0_row0\" class=\"row_heading level0 row0\" >texture_se</th>\n",
       "                        <td id=\"T_8870d0f4_8e10_11ea_918e_9e305bbd1ec7row0_col0\" class=\"data row0 col0\" >1</td>\n",
       "                        <td id=\"T_8870d0f4_8e10_11ea_918e_9e305bbd1ec7row0_col1\" class=\"data row0 col1\" >0.111567</td>\n",
       "                        <td id=\"T_8870d0f4_8e10_11ea_918e_9e305bbd1ec7row0_col2\" class=\"data row0 col2\" >0.194998</td>\n",
       "                        <td id=\"T_8870d0f4_8e10_11ea_918e_9e305bbd1ec7row0_col3\" class=\"data row0 col3\" >-0.00830333</td>\n",
       "            </tr>\n",
       "            <tr>\n",
       "                        <th id=\"T_8870d0f4_8e10_11ea_918e_9e305bbd1ec7level0_row1\" class=\"row_heading level0 row1\" >area_se</th>\n",
       "                        <td id=\"T_8870d0f4_8e10_11ea_918e_9e305bbd1ec7row1_col0\" class=\"data row1 col0\" >0.111567</td>\n",
       "                        <td id=\"T_8870d0f4_8e10_11ea_918e_9e305bbd1ec7row1_col1\" class=\"data row1 col1\" >1</td>\n",
       "                        <td id=\"T_8870d0f4_8e10_11ea_918e_9e305bbd1ec7row1_col2\" class=\"data row1 col2\" >0.270895</td>\n",
       "                        <td id=\"T_8870d0f4_8e10_11ea_918e_9e305bbd1ec7row1_col3\" class=\"data row1 col3\" >0.548236</td>\n",
       "            </tr>\n",
       "            <tr>\n",
       "                        <th id=\"T_8870d0f4_8e10_11ea_918e_9e305bbd1ec7level0_row2\" class=\"row_heading level0 row2\" >concavity_se</th>\n",
       "                        <td id=\"T_8870d0f4_8e10_11ea_918e_9e305bbd1ec7row2_col0\" class=\"data row2 col0\" >0.194998</td>\n",
       "                        <td id=\"T_8870d0f4_8e10_11ea_918e_9e305bbd1ec7row2_col1\" class=\"data row2 col1\" >0.270895</td>\n",
       "                        <td id=\"T_8870d0f4_8e10_11ea_918e_9e305bbd1ec7row2_col2\" class=\"data row2 col2\" >1</td>\n",
       "                        <td id=\"T_8870d0f4_8e10_11ea_918e_9e305bbd1ec7row2_col3\" class=\"data row2 col3\" >0.25373</td>\n",
       "            </tr>\n",
       "            <tr>\n",
       "                        <th id=\"T_8870d0f4_8e10_11ea_918e_9e305bbd1ec7level0_row3\" class=\"row_heading level0 row3\" >diagnosis_category</th>\n",
       "                        <td id=\"T_8870d0f4_8e10_11ea_918e_9e305bbd1ec7row3_col0\" class=\"data row3 col0\" >-0.00830333</td>\n",
       "                        <td id=\"T_8870d0f4_8e10_11ea_918e_9e305bbd1ec7row3_col1\" class=\"data row3 col1\" >0.548236</td>\n",
       "                        <td id=\"T_8870d0f4_8e10_11ea_918e_9e305bbd1ec7row3_col2\" class=\"data row3 col2\" >0.25373</td>\n",
       "                        <td id=\"T_8870d0f4_8e10_11ea_918e_9e305bbd1ec7row3_col3\" class=\"data row3 col3\" >1</td>\n",
       "            </tr>\n",
       "    </tbody></table>"
      ],
      "text/plain": [
       "<pandas.io.formats.style.Styler at 0x2224342a3c8>"
      ]
     },
     "execution_count": 15,
     "metadata": {},
     "output_type": "execute_result"
    }
   ],
   "source": [
    "#Correlation plot\n",
    "corr = df_removing_features.corr()\n",
    "corr.style.background_gradient(cmap='coolwarm')"
   ]
  },
  {
   "cell_type": "code",
   "execution_count": 16,
   "metadata": {},
   "outputs": [
    {
     "data": {
      "text/plain": [
       "Index(['texture_se', 'area_se', 'concavity_se', 'diagnosis_category'], dtype='object')"
      ]
     },
     "execution_count": 16,
     "metadata": {},
     "output_type": "execute_result"
    }
   ],
   "source": [
    "df_removing_features.columns"
   ]
  },
  {
   "cell_type": "markdown",
   "metadata": {},
   "source": [
    "## Run a simple decision tree on my new data set\n",
    "### Load my train and test data first"
   ]
  },
  {
   "cell_type": "code",
   "execution_count": 21,
   "metadata": {},
   "outputs": [],
   "source": [
    "X_test_df= pd.read_csv(\"/Suzi fun files/QB course/QB_DS_FinalProject/data/interim/X_test.csv\", index_col=[0])\n",
    "X_test_df.columns=df_processed.columns[:-1]\n",
    "X_test_df.head()\n",
    "X_test = X_test_df[df_removing_features.columns[:-1]].values"
   ]
  },
  {
   "cell_type": "code",
   "execution_count": 22,
   "metadata": {},
   "outputs": [],
   "source": [
    "X_train_df= pd.read_csv(\"/Suzi fun files/QB course/QB_DS_FinalProject/data/interim/X_train.csv\", index_col=[0])\n",
    "X_train_df.columns=df_processed.columns[:-1]\n",
    "X_train = X_train_df[df_removing_features.columns[:-1]].values"
   ]
  },
  {
   "cell_type": "code",
   "execution_count": 24,
   "metadata": {},
   "outputs": [],
   "source": [
    "y_train_df = pd.read_csv('/Suzi fun files/QB course/QB_DS_FinalProject/data/interim/y_train.csv', header=None, index_col=[0]);\n",
    "y_train = y_train_df.iloc[:,0]\n",
    "y_test_df = pd.read_csv('/Suzi fun files/QB course/QB_DS_FinalProject/data/interim/y_test.csv', header=None, index_col=[0]);\n",
    "y_test = y_test_df.iloc[:,0]"
   ]
  },
  {
   "cell_type": "code",
   "execution_count": 25,
   "metadata": {},
   "outputs": [],
   "source": [
    "# Tune Decision Tree\n",
    "num_leaves = [5, 10, 15, 20, 30, 40, 50]\n",
    "depth = np.arange(3, 21)\n",
    "num_samples_split = np.arange(10,20)\n",
    "params_DT = {\"max_depth\": depth, \"min_samples_leaf\": num_leaves, \"min_samples_split\":num_samples_split}\n",
    "random_state = 42\n",
    "classifier_DT = DecisionTreeClassifier(random_state=random_state)\n",
    "grid_DT = GridSearchCV(classifier_DT, params_DT,scoring='roc_auc');\n",
    "grid_DT.fit(X_train,y_train)\n",
    "\n",
    "prediction_DT = grid_DT.predict(X_test)\n",
    "probability_DT = grid_DT.predict_proba(X_test)"
   ]
  },
  {
   "cell_type": "code",
   "execution_count": 26,
   "metadata": {},
   "outputs": [
    {
     "name": "stdout",
     "output_type": "stream",
     "text": [
      "Accuracy: 0.8859649122807017\n"
     ]
    }
   ],
   "source": [
    "print(\"Accuracy:\",metrics.accuracy_score(y_test, prediction_DT))"
   ]
  },
  {
   "cell_type": "code",
   "execution_count": 27,
   "metadata": {},
   "outputs": [
    {
     "data": {
      "text/plain": [
       "[Text(571.9499999999999, 498.3, 'texture_mean <= 31.285\\nsamples = 100.0%\\nvalue = [0.629, 0.371]'),\n",
       " Text(251.1, 407.70000000000005, 'texture_mean <= 18.515\\nsamples = 64.2%\\nvalue = [0.887, 0.113]'),\n",
       " Text(111.6, 317.1, 'texture_mean <= 13.935\\nsamples = 26.8%\\nvalue = [0.975, 0.025]'),\n",
       " Text(55.8, 226.5, 'samples = 12.7%\\nvalue = [1.0, 0.0]'),\n",
       " Text(167.39999999999998, 226.5, 'texture_mean <= 17.03\\nsamples = 14.1%\\nvalue = [0.953, 0.047]'),\n",
       " Text(111.6, 135.89999999999998, 'samples = 7.7%\\nvalue = [0.914, 0.086]'),\n",
       " Text(223.2, 135.89999999999998, 'samples = 6.4%\\nvalue = [1.0, 0.0]'),\n",
       " Text(390.59999999999997, 317.1, 'perimeter_mean <= 0.013\\nsamples = 37.4%\\nvalue = [0.824, 0.176]'),\n",
       " Text(334.79999999999995, 226.5, 'samples = 8.1%\\nvalue = [1.0, 0.0]'),\n",
       " Text(446.4, 226.5, 'radius_mean <= 1.022\\nsamples = 29.2%\\nvalue = [0.774, 0.226]'),\n",
       " Text(334.79999999999995, 135.89999999999998, 'radius_mean <= 0.821\\nsamples = 12.3%\\nvalue = [0.661, 0.339]'),\n",
       " Text(279.0, 45.299999999999955, 'samples = 6.4%\\nvalue = [0.828, 0.172]'),\n",
       " Text(390.59999999999997, 45.299999999999955, 'samples = 5.9%\\nvalue = [0.481, 0.519]'),\n",
       " Text(558.0, 135.89999999999998, 'perimeter_mean <= 0.023\\nsamples = 16.9%\\nvalue = [0.857, 0.143]'),\n",
       " Text(502.2, 45.299999999999955, 'samples = 5.5%\\nvalue = [1.0, 0.0]'),\n",
       " Text(613.8, 45.299999999999955, 'samples = 11.4%\\nvalue = [0.788, 0.212]'),\n",
       " Text(892.8, 407.70000000000005, 'texture_mean <= 50.955\\nsamples = 35.8%\\nvalue = [0.166, 0.834]'),\n",
       " Text(781.1999999999999, 317.1, 'radius_mean <= 1.32\\nsamples = 15.2%\\nvalue = [0.362, 0.638]'),\n",
       " Text(725.4, 226.5, 'texture_mean <= 40.01\\nsamples = 10.8%\\nvalue = [0.245, 0.755]'),\n",
       " Text(669.5999999999999, 135.89999999999998, 'samples = 5.7%\\nvalue = [0.346, 0.654]'),\n",
       " Text(781.1999999999999, 135.89999999999998, 'samples = 5.1%\\nvalue = [0.13, 0.87]'),\n",
       " Text(837.0, 226.5, 'samples = 4.4%\\nvalue = [0.65, 0.35]'),\n",
       " Text(1004.4, 317.1, 'radius_mean <= 1.57\\nsamples = 20.7%\\nvalue = [0.021, 0.979]'),\n",
       " Text(948.5999999999999, 226.5, 'samples = 16.3%\\nvalue = [0.0, 1.0]'),\n",
       " Text(1060.2, 226.5, 'samples = 4.4%\\nvalue = [0.1, 0.9]')]"
      ]
     },
     "execution_count": 27,
     "metadata": {},
     "output_type": "execute_result"
    },
    {
     "data": {
      "image/png": "[encoded data removed]",
      "text/plain": [
       "<Figure size 1440x720 with 1 Axes>"
      ]
     },
     "metadata": {
      "needs_background": "light"
     },
     "output_type": "display_data"
    }
   ],
   "source": [
    "model_DT= grid_DT.best_estimator_\n",
    "plt.figure(figsize=(20,10)) \n",
    "tree.plot_tree(model_DT, feature_names=df_processed.columns[0:-1], impurity=False, proportion=True)"
   ]
  },
  {
   "cell_type": "code",
   "execution_count": 28,
   "metadata": {},
   "outputs": [
    {
     "name": "stdout",
     "output_type": "stream",
     "text": [
      "[[64  7]\n",
      " [ 6 37]]\n"
     ]
    }
   ],
   "source": [
    "print(metrics.confusion_matrix(y_test, prediction_DT))"
   ]
  },
  {
   "cell_type": "code",
   "execution_count": 29,
   "metadata": {},
   "outputs": [
    {
     "name": "stdout",
     "output_type": "stream",
     "text": [
      "0.8409090909090909\n"
     ]
    }
   ],
   "source": [
    "tree_tn, tree_fn, tree_fp, tree_tp = metrics.confusion_matrix(y_test, prediction_DT).ravel()\n",
    "recall_DT= tree_tp/(tree_tp + tree_fn)\n",
    "print(recall_DT)"
   ]
  },
  {
   "cell_type": "markdown",
   "metadata": {},
   "source": [
    "## Accuracy decreased from 95% to 92%, recall decreased from 93% to 90%\n",
    "### Idea for more work: look at the change of recall and accuracy with the step-wise removal of features "
   ]
  },
  {
   "cell_type": "code",
   "execution_count": 30,
   "metadata": {},
   "outputs": [
    {
     "data": {
      "text/plain": [
       "LogisticRegression(C=1.0, class_weight=None, dual=False, fit_intercept=True,\n",
       "                   intercept_scaling=1, l1_ratio=None, max_iter=100,\n",
       "                   multi_class='warn', n_jobs=-1, penalty='l2',\n",
       "                   random_state=None, solver='warn', tol=0.0001, verbose=0,\n",
       "                   warm_start=False)"
      ]
     },
     "execution_count": 30,
     "metadata": {},
     "output_type": "execute_result"
    }
   ],
   "source": [
    "classifier_LR = LogisticRegression(n_jobs = -1)\n",
    "classifier_LR.fit(X_train,y_train)"
   ]
  },
  {
   "cell_type": "code",
   "execution_count": 31,
   "metadata": {},
   "outputs": [
    {
     "name": "stdout",
     "output_type": "stream",
     "text": [
      "Accuracy: 0.9210526315789473\n",
      "[[67  4]\n",
      " [ 5 38]]\n"
     ]
    }
   ],
   "source": [
    "prediction_LR = classifier_LR.predict(X_test)\n",
    "probability_LR = classifier_LR.predict_proba(X_test)\n",
    "print(\"Accuracy:\",metrics.accuracy_score(y_test, prediction_LR))\n",
    "print(metrics.confusion_matrix(y_test, prediction_LR))"
   ]
  },
  {
   "cell_type": "code",
   "execution_count": 32,
   "metadata": {},
   "outputs": [
    {
     "name": "stdout",
     "output_type": "stream",
     "text": [
      "0.9047619047619048\n"
     ]
    }
   ],
   "source": [
    "lr_tn, lr_fn, lr_fp, lr_tp = metrics.confusion_matrix(y_test, prediction_LR).ravel()\n",
    "recall_LR = lr_tp/(lr_tp + lr_fn)\n",
    "print(recall_LR)"
   ]
  },
  {
   "cell_type": "code",
   "execution_count": 33,
   "metadata": {},
   "outputs": [
    {
     "data": {
      "image/png": "[encoded data removed]",
      "text/plain": [
       "<Figure size 864x864 with 1 Axes>"
      ]
     },
     "metadata": {
      "needs_background": "light"
     },
     "output_type": "display_data"
    }
   ],
   "source": [
    "false_pos_rate_DT,true_pos_rate_DT, thresholds_DT = roc_curve(y_test, probability_DT[:, 1])\n",
    "false_pos_rate_LR,true_pos_rate_LR, thresholds_LR = roc_curve(y_test, probability_LR[:, 1])\n",
    "\n",
    "# Plot the ROC curve\n",
    "fig = plt.figure(figsize=(12,12))\n",
    "plt.plot([0, 1], [0, 1], 'k--')\n",
    "plt.plot(false_pos_rate_DT, true_pos_rate_DT, label='DT')\n",
    "plt.plot(false_pos_rate_LR, true_pos_rate_LR, label='Lr')\n",
    "plt.xlabel('False positive rate')\n",
    "plt.ylabel('True positive rate')\n",
    "plt.title('ROC')\n",
    "plt.legend(loc='best')\n",
    "plt.show()"
   ]
  },
  {
   "cell_type": "code",
   "execution_count": 34,
   "metadata": {},
   "outputs": [
    {
     "data": {
      "text/plain": [
       "0.9764166393711103"
      ]
     },
     "execution_count": 34,
     "metadata": {},
     "output_type": "execute_result"
    }
   ],
   "source": [
    "metrics.auc(false_pos_rate_DT, true_pos_rate_DT)\n",
    "metrics.auc(false_pos_rate_LR, true_pos_rate_LR)"
   ]
  },
  {
   "cell_type": "code",
   "execution_count": null,
   "metadata": {},
   "outputs": [],
   "source": []
  }
 ],
 "metadata": {
  "kernelspec": {
   "display_name": "Python 3",
   "language": "python",
   "name": "python3"
  },
  "language_info": {
   "codemirror_mode": {
    "name": "ipython",
    "version": 3
   },
   "file_extension": ".py",
   "mimetype": "text/x-python",
   "name": "python",
   "nbconvert_exporter": "python",
   "pygments_lexer": "ipython3",
   "version": "3.7.4"
  }
 },
 "nbformat": 4,
 "nbformat_minor": 2
}
